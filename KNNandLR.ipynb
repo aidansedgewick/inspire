{
 "cells": [
  {
   "cell_type": "code",
   "execution_count": 1,
   "metadata": {},
   "outputs": [],
   "source": [
    "from sklearn import datasets\n",
    "import numpy as np\n",
    "import pickle"
   ]
  },
  {
   "cell_type": "code",
   "execution_count": 2,
   "metadata": {},
   "outputs": [],
   "source": [
    "with open('keyword_occurances.pkl','rb') as f:\n",
    "    mydata= pickle.load(f)"
   ]
  },
  {
   "cell_type": "code",
   "execution_count": 3,
   "metadata": {},
   "outputs": [],
   "source": [
    "target = []\n",
    "m = 0\n",
    "while (m < len(mydata)):\n",
    "    target.append(mydata[m][10])\n",
    "    m = m + 1\n",
    "target = [map(int, x) for x in target]"
   ]
  },
  {
   "cell_type": "code",
   "execution_count": 4,
   "metadata": {},
   "outputs": [],
   "source": [
    "data = []\n",
    "n =0\n",
    "while (n < len(mydata)):\n",
    "    j=0\n",
    "    while (j < 10):\n",
    "        data.append(mydata[n][j])\n",
    "        j=j+1\n",
    "    n=n+1\n",
    "    \n",
    "data = np.reshape(np.hstack(data), (len(mydata),10))\n",
    "data = [map(int, x) for x in data]"
   ]
  },
  {
   "cell_type": "code",
   "execution_count": 5,
   "metadata": {},
   "outputs": [],
   "source": [
    "inspire_X = np.asarray(data)\n",
    "inspire_y = np.asarray(target)\n",
    "inspire_y = inspire_y.ravel()"
   ]
  },
  {
   "cell_type": "code",
   "execution_count": 6,
   "metadata": {},
   "outputs": [],
   "source": [
    "np.random.seed(0)\n",
    "indices = np.random.permutation(len(inspire_X))\n",
    "\n",
    "inspire_X_train = inspire_X[indices[:-160]]\n",
    "inspire_y_train = inspire_y[indices[:-160]]\n",
    "inspire_X_test  = inspire_X[indices[-160:]]\n",
    "inspire_y_test  = inspire_y[indices[-160:]]"
   ]
  },
  {
   "cell_type": "code",
   "execution_count": 7,
   "metadata": {},
   "outputs": [],
   "source": [
    "from sklearn.neighbors import KNeighborsClassifier"
   ]
  },
  {
   "cell_type": "markdown",
   "metadata": {},
   "source": [
    "Try K-Nearest-Neighbours"
   ]
  },
  {
   "cell_type": "code",
   "execution_count": 8,
   "metadata": {},
   "outputs": [],
   "source": [
    "knn = KNeighborsClassifier()"
   ]
  },
  {
   "cell_type": "code",
   "execution_count": 9,
   "metadata": {},
   "outputs": [
    {
     "data": {
      "text/plain": [
       "KNeighborsClassifier(algorithm='auto', leaf_size=30, metric='minkowski',\n",
       "           metric_params=None, n_jobs=1, n_neighbors=5, p=2,\n",
       "           weights='uniform')"
      ]
     },
     "execution_count": 9,
     "metadata": {},
     "output_type": "execute_result"
    }
   ],
   "source": [
    "knn.fit(inspire_X_train, inspire_y_train)"
   ]
  },
  {
   "cell_type": "code",
   "execution_count": 11,
   "metadata": {},
   "outputs": [
    {
     "name": "stdout",
     "output_type": "stream",
     "text": [
      "[1 2 1 2 1 1 2 1 1 1 1 1 1 1 1 1 1 1 1 2 1 2 1 2 1 1 1 1 2 2 1 2 2 2 2 1 1\n",
      " 1 2 2 2 1 2 1 1 2 2 1 1 2 2 1 1 2 2 1 1 2 1 1 1 2 0 2 1 1 1 2 2 2 1 1 2 2\n",
      " 1 2 2 2 2 2 1 2 1 1 1 1 1 2 2 1 1 1 2 1 1 1 1 1 1 1 1 2 1 1 2 1 1 1 1 2 2\n",
      " 2 1 1 2 1 2 1 1 1 1 1 2 1 1 2 1 1 1 1 1 1 1 1 1 1 1 2 1 1 1 1 1 2 1 2 1 1\n",
      " 1 1 0 1 1 2 2 1 1 1 2 2]\n"
     ]
    }
   ],
   "source": [
    "PREDICTknn = knn.predict(inspire_X_test)\n",
    "print PREDICTknn"
   ]
  },
  {
   "cell_type": "code",
   "execution_count": 12,
   "metadata": {},
   "outputs": [
    {
     "name": "stdout",
     "output_type": "stream",
     "text": [
      "[2 2 2 2 1 2 1 2 2 1 1 2 2 2 1 1 1 1 2 2 2 1 2 1 1 1 2 0 0 1 2 2 2 2 1 2 2\n",
      " 2 2 2 2 2 2 2 0 1 1 1 2 1 2 2 2 2 2 1 1 1 2 0 2 2 2 0 2 1 0 1 1 2 2 1 2 2\n",
      " 1 1 2 0 2 2 2 2 1 0 1 2 2 2 1 2 2 1 2 1 2 2 2 1 1 0 1 2 2 1 2 1 2 2 2 2 2\n",
      " 1 2 1 2 0 2 1 1 2 2 1 2 2 2 0 2 1 2 1 1 2 1 2 1 1 2 2 2 1 1 1 2 2 2 2 2 1\n",
      " 1 1 2 1 2 2 1 1 2 1 1 1]\n"
     ]
    }
   ],
   "source": [
    "print inspire_y_test"
   ]
  },
  {
   "cell_type": "code",
   "execution_count": 13,
   "metadata": {},
   "outputs": [
    {
     "name": "stdout",
     "output_type": "stream",
     "text": [
      "0.51875\n"
     ]
    }
   ],
   "source": [
    "errorknn = np.mean( PREDICTknn != inspire_y_test )\n",
    "print errorknn"
   ]
  },
  {
   "cell_type": "markdown",
   "metadata": {},
   "source": [
    "Try Logistic Regression"
   ]
  },
  {
   "cell_type": "code",
   "execution_count": 14,
   "metadata": {},
   "outputs": [],
   "source": [
    "from sklearn import linear_model\n",
    "logistic = linear_model.LogisticRegression(C=1e5)"
   ]
  },
  {
   "cell_type": "code",
   "execution_count": 15,
   "metadata": {},
   "outputs": [
    {
     "data": {
      "text/plain": [
       "LogisticRegression(C=100000.0, class_weight=None, dual=False,\n",
       "          fit_intercept=True, intercept_scaling=1, max_iter=100,\n",
       "          multi_class='ovr', n_jobs=1, penalty='l2', random_state=None,\n",
       "          solver='liblinear', tol=0.0001, verbose=0, warm_start=False)"
      ]
     },
     "execution_count": 15,
     "metadata": {},
     "output_type": "execute_result"
    }
   ],
   "source": [
    "logistic.fit(inspire_X_train, inspire_y_train)"
   ]
  },
  {
   "cell_type": "code",
   "execution_count": 16,
   "metadata": {},
   "outputs": [
    {
     "name": "stdout",
     "output_type": "stream",
     "text": [
      "[2 2 2 1 1 2 2 2 2 2 1 1 2 1 2 1 2 1 1 2 1 2 1 2 1 1 2 1 2 2 1 2 2 1 2 1 2\n",
      " 1 2 2 2 2 2 1 1 2 2 2 1 2 2 1 1 2 2 1 1 2 1 1 2 2 1 2 2 1 1 2 2 2 1 1 2 2\n",
      " 1 2 2 2 2 2 1 2 2 1 1 2 1 2 2 1 1 2 2 1 1 2 1 1 1 1 1 2 1 1 1 1 1 2 1 2 2\n",
      " 1 1 1 1 1 2 1 2 1 1 2 2 2 1 2 1 1 2 2 2 2 2 1 1 1 1 2 1 1 1 2 1 2 2 2 1 1\n",
      " 1 2 2 1 1 2 2 1 1 1 2 1]\n"
     ]
    }
   ],
   "source": [
    "PREDICT2 = logistic.predict(inspire_X_test)\n",
    "print PREDICT2"
   ]
  },
  {
   "cell_type": "code",
   "execution_count": 17,
   "metadata": {},
   "outputs": [
    {
     "name": "stdout",
     "output_type": "stream",
     "text": [
      "[2 2 2 2 1 2 1 2 2 1 1 2 2 2 1 1 1 1 2 2 2 1 2 1 1 1 2 0 0 1 2 2 2 2 1 2 2\n",
      " 2 2 2 2 2 2 2 0 1 1 1 2 1 2 2 2 2 2 1 1 1 2 0 2 2 2 0 2 1 0 1 1 2 2 1 2 2\n",
      " 1 1 2 0 2 2 2 2 1 0 1 2 2 2 1 2 2 1 2 1 2 2 2 1 1 0 1 2 2 1 2 1 2 2 2 2 2\n",
      " 1 2 1 2 0 2 1 1 2 2 1 2 2 2 0 2 1 2 1 1 2 1 2 1 1 2 2 2 1 1 1 2 2 2 2 2 1\n",
      " 1 1 2 1 2 2 1 1 2 1 1 1]\n"
     ]
    }
   ],
   "source": [
    "print inspire_y_test"
   ]
  },
  {
   "cell_type": "code",
   "execution_count": 18,
   "metadata": {},
   "outputs": [
    {
     "name": "stdout",
     "output_type": "stream",
     "text": [
      "0.49375\n"
     ]
    }
   ],
   "source": [
    "error = np.mean( PREDICT2 != inspire_y_test )\n",
    "print error"
   ]
  },
  {
   "cell_type": "code",
   "execution_count": null,
   "metadata": {},
   "outputs": [],
   "source": []
  }
 ],
 "metadata": {
  "kernelspec": {
   "display_name": "Python 2",
   "language": "python",
   "name": "python2"
  },
  "language_info": {
   "codemirror_mode": {
    "name": "ipython",
    "version": 2
   },
   "file_extension": ".py",
   "mimetype": "text/x-python",
   "name": "python",
   "nbconvert_exporter": "python",
   "pygments_lexer": "ipython2",
   "version": "2.7.14"
  }
 },
 "nbformat": 4,
 "nbformat_minor": 2
}
