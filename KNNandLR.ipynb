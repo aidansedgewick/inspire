{
 "cells": [
  {
   "cell_type": "code",
   "execution_count": 1,
   "metadata": {},
   "outputs": [],
   "source": [
    "from sklearn import datasets\n",
    "import numpy as np\n",
    "import pickle"
   ]
  },
  {
   "cell_type": "code",
   "execution_count": 2,
   "metadata": {},
   "outputs": [],
   "source": [
    "with open('keyword_occurances.pkl','rb') as f:\n",
    "    mydata= pickle.load(f)"
   ]
  },
  {
   "cell_type": "code",
   "execution_count": 3,
   "metadata": {},
   "outputs": [],
   "source": [
    "target = []\n",
    "m = 0\n",
    "while (m < len(mydata)):\n",
    "    target.append(mydata[m][10])\n",
    "    m = m + 1\n",
    "target = [map(int, x) for x in target]"
   ]
  },
  {
   "cell_type": "code",
   "execution_count": 4,
   "metadata": {},
   "outputs": [],
   "source": [
    "data = []\n",
    "n =0\n",
    "while (n < len(mydata)):\n",
    "    j=0\n",
    "    while (j < 10):\n",
    "        data.append(mydata[n][j])\n",
    "        j=j+1\n",
    "    n=n+1\n",
    "    \n",
    "data = np.reshape(np.hstack(data), (len(mydata),10))\n",
    "data = [map(int, x) for x in data]"
   ]
  },
  {
   "cell_type": "code",
   "execution_count": 5,
   "metadata": {},
   "outputs": [],
   "source": [
    "inspire_X = np.asarray(data)\n",
    "inspire_y = np.asarray(target)\n",
    "inspire_y = inspire_y.ravel()"
   ]
  },
  {
   "cell_type": "code",
   "execution_count": 6,
   "metadata": {},
   "outputs": [],
   "source": [
    "np.random.seed(0)\n",
    "indices = np.random.permutation(len(inspire_X))\n",
    "\n",
    "inspire_X_train = inspire_X[indices[:-160]]\n",
    "inspire_y_train = inspire_y[indices[:-160]]\n",
    "inspire_X_test  = inspire_X[indices[-160:]]\n",
    "inspire_y_test  = inspire_y[indices[-160:]]"
   ]
  },
  {
   "cell_type": "code",
   "execution_count": 7,
   "metadata": {},
   "outputs": [],
   "source": [
    "from sklearn.neighbors import KNeighborsClassifier"
   ]
  },
  {
   "cell_type": "markdown",
   "metadata": {},
   "source": [
    "Try K-Nearest-Neighbours"
   ]
  },
  {
   "cell_type": "code",
   "execution_count": 8,
   "metadata": {},
   "outputs": [],
   "source": [
    "knn = KNeighborsClassifier()"
   ]
  },
  {
   "cell_type": "code",
   "execution_count": 9,
   "metadata": {},
   "outputs": [
    {
     "data": {
      "text/plain": [
       "KNeighborsClassifier(algorithm='auto', leaf_size=30, metric='minkowski',\n",
       "           metric_params=None, n_jobs=1, n_neighbors=5, p=2,\n",
       "           weights='uniform')"
      ]
     },
     "execution_count": 9,
     "metadata": {},
     "output_type": "execute_result"
    }
   ],
   "source": [
    "knn.fit(inspire_X_train, inspire_y_train)"
   ]
  },
  {
   "cell_type": "code",
   "execution_count": 10,
   "metadata": {},
   "outputs": [],
   "source": [
    "PREDICTknn = knn.predict(inspire_X_test)\n",
    "#print PREDICTknn"
   ]
  },
  {
   "cell_type": "code",
   "execution_count": 11,
   "metadata": {},
   "outputs": [],
   "source": [
    "#print inspire_y_test"
   ]
  },
  {
   "cell_type": "code",
   "execution_count": 12,
   "metadata": {},
   "outputs": [
    {
     "name": "stdout",
     "output_type": "stream",
     "text": [
      "0.51875\n"
     ]
    }
   ],
   "source": [
    "errorknn = np.mean( PREDICTknn != inspire_y_test )\n",
    "print errorknn"
   ]
  },
  {
   "cell_type": "markdown",
   "metadata": {},
   "source": [
    "Trying it with only the 2 total number of features"
   ]
  },
  {
   "cell_type": "code",
   "execution_count": 13,
   "metadata": {},
   "outputs": [],
   "source": [
    "X = []\n",
    "n = 0\n",
    "while (n < len(inspire_X_train)):\n",
    "    j=0\n",
    "    while (j < 10):\n",
    "        if (j == 4) or (j == 9):\n",
    "            X.append(inspire_X_train[n][j])\n",
    "        j=j+1\n",
    "    n=n+1\n",
    "    \n",
    "X = np.reshape(np.hstack(X), (len(inspire_X_train),2))"
   ]
  },
  {
   "cell_type": "code",
   "execution_count": 14,
   "metadata": {},
   "outputs": [
    {
     "data": {
      "text/plain": [
       "<matplotlib.figure.Figure at 0x1113b9650>"
      ]
     },
     "metadata": {},
     "output_type": "display_data"
    }
   ],
   "source": [
    "\n",
    "import matplotlib.pyplot as plt\n",
    "from matplotlib.colors import ListedColormap\n",
    "from sklearn import neighbors\n",
    "\n",
    "n_neighbors = 5\n",
    "\n",
    "y = inspire_y_train\n",
    "\n",
    "h = 0.02  # step size in the mesh\n",
    "\n",
    "# Create color maps\n",
    "cmap_light = ListedColormap(['#FFAAAA', '#AAFFAA', '#AAAAFF'])\n",
    "cmap_bold = ListedColormap(['#FF0000', '#00FF00', '#0000FF'])\n",
    "\n",
    "for weights in ['uniform']:\n",
    "    # we create an instance of Neighbours Classifier and fit the data.\n",
    "    clf = neighbors.KNeighborsClassifier(n_neighbors, weights=weights)\n",
    "    clf.fit(X, y)\n",
    "\n",
    "    # Plot the decision boundary. For that, we will assign a color to each\n",
    "    # point in the mesh [x_min, x_max]x[y_min, y_max].\n",
    "    x_min, x_max = X[:, 0].min() - 1, X[:, 0].max() + 1\n",
    "    y_min, y_max = X[:, 1].min() - 1, X[:, 1].max() + 1\n",
    "    xx, yy = np.meshgrid(np.arange(x_min, x_max, h),\n",
    "                         np.arange(y_min, y_max, h))\n",
    "    Z = clf.predict(np.c_[xx.ravel(), yy.ravel()])\n",
    "\n",
    "    # Put the result into a color plot\n",
    "    Z = Z.reshape(xx.shape)\n",
    "    plt.figure()\n",
    "    plt.pcolormesh(xx, yy, Z, cmap=cmap_light)\n",
    "\n",
    "    # Plot also the training points\n",
    "    plt.scatter(X[:, 0], X[:, 1], c=y, cmap=cmap_bold,\n",
    "                edgecolor='k', s=20)\n",
    "    plt.xlim(xx.min(), xx.max())\n",
    "    plt.ylim(yy.min(), yy.max())\n",
    "    plt.title(\"3-Class classification (k = %i, weights = '%s')\"\n",
    "              % (n_neighbors, weights))\n",
    "\n",
    "plt.show()"
   ]
  },
  {
   "cell_type": "code",
   "execution_count": 15,
   "metadata": {},
   "outputs": [
    {
     "name": "stdout",
     "output_type": "stream",
     "text": [
      "0.5375\n"
     ]
    }
   ],
   "source": [
    "knn.fit(X, inspire_y_train)\n",
    "X_test= []\n",
    "n = 0\n",
    "while (n < len(inspire_X_test)):\n",
    "    j=0\n",
    "    while (j < 10):\n",
    "        if (j == 4) or (j == 9):\n",
    "            X_test.append(inspire_X_test[n][j])\n",
    "        j=j+1\n",
    "    n=n+1\n",
    "    \n",
    "X_test = np.reshape(np.hstack(X_test), (len(inspire_X_test),2))\n",
    "\n",
    "lilknn = knn.predict(X_test)\n",
    "errorknn = np.mean( lilknn != inspire_y_test )\n",
    "print errorknn"
   ]
  },
  {
   "cell_type": "markdown",
   "metadata": {},
   "source": [
    "Try Logistic Regression"
   ]
  },
  {
   "cell_type": "code",
   "execution_count": 46,
   "metadata": {},
   "outputs": [],
   "source": [
    "from sklearn import linear_model\n",
    "logistic = linear_model.LogisticRegression(C=1e5, penalty=\"l1\")"
   ]
  },
  {
   "cell_type": "code",
   "execution_count": 47,
   "metadata": {},
   "outputs": [
    {
     "data": {
      "text/plain": [
       "LogisticRegression(C=100000.0, class_weight=None, dual=False,\n",
       "          fit_intercept=True, intercept_scaling=1, max_iter=100,\n",
       "          multi_class='ovr', n_jobs=1, penalty='l1', random_state=None,\n",
       "          solver='liblinear', tol=0.0001, verbose=0, warm_start=False)"
      ]
     },
     "execution_count": 47,
     "metadata": {},
     "output_type": "execute_result"
    }
   ],
   "source": [
    "logistic.fit(inspire_X_train, inspire_y_train)"
   ]
  },
  {
   "cell_type": "code",
   "execution_count": 51,
   "metadata": {},
   "outputs": [
    {
     "name": "stdout",
     "output_type": "stream",
     "text": [
      "[2 2 2 1 1 2 2 2 2 2 1 1 2 1 2 1 2 1 1 2 1 2 1 2 1 1 2 1 2 2 1 2 2 1 2 1 2\n",
      " 1 2 2 2 2 2 1 1 2 2 2 1 2 2 1 1 2 2 1 1 2 1 1 2 2 1 2 2 1 1 2 2 2 1 1 2 2\n",
      " 1 2 2 2 2 2 1 2 2 1 1 2 1 2 2 1 1 2 2 1 1 2 1 1 1 1 1 2 1 1 1 1 1 2 1 2 2\n",
      " 1 1 1 1 1 2 1 2 1 1 2 2 2 1 2 1 1 2 2 2 2 2 1 1 1 1 2 1 1 1 2 1 2 2 2 1 1\n",
      " 1 2 2 1 1 2 2 1 1 1 2 1]\n"
     ]
    }
   ],
   "source": [
    "PREDICT2 = logistic.predict(inspire_X_test)\n",
    "print PREDICT2"
   ]
  },
  {
   "cell_type": "code",
   "execution_count": 49,
   "metadata": {},
   "outputs": [],
   "source": [
    "#print inspire_y_test"
   ]
  },
  {
   "cell_type": "code",
   "execution_count": 50,
   "metadata": {},
   "outputs": [
    {
     "name": "stdout",
     "output_type": "stream",
     "text": [
      "[[ -5.43105803e-02   4.31145562e-01  -9.81718852e-01   2.91792760e+00\n",
      "   -6.23395277e-02  -5.51766183e-02   1.84111173e-01   1.89911139e-01\n",
      "   -1.22216047e+01  -1.31013412e-02]\n",
      " [  6.71403363e-02  -1.17471894e-03  -1.01385995e+00  -1.21304793e+01\n",
      "   -9.92492851e-02  -2.73442692e-03  -1.44181220e-01  -3.68667228e-01\n",
      "   -1.07694381e+01  -1.25829731e-02]\n",
      " [  9.18220737e-02  -1.07907015e-02   1.31609356e+00  -2.57032753e-01\n",
      "   -2.54684179e-02   2.85139097e-02   8.66218421e-02   2.59563589e-01\n",
      "    1.31010358e+01   5.85981408e-03]]\n"
     ]
    }
   ],
   "source": [
    "#print logistic.coef_"
   ]
  },
  {
   "cell_type": "code",
   "execution_count": 38,
   "metadata": {},
   "outputs": [
    {
     "name": "stdout",
     "output_type": "stream",
     "text": [
      "0.49375\n"
     ]
    }
   ],
   "source": [
    "error = np.mean( PREDICT2 != inspire_y_test )\n",
    "print error"
   ]
  },
  {
   "cell_type": "code",
   "execution_count": null,
   "metadata": {},
   "outputs": [],
   "source": []
  }
 ],
 "metadata": {
  "kernelspec": {
   "display_name": "Python 2",
   "language": "python",
   "name": "python2"
  },
  "language_info": {
   "codemirror_mode": {
    "name": "ipython",
    "version": 2
   },
   "file_extension": ".py",
   "mimetype": "text/x-python",
   "name": "python",
   "nbconvert_exporter": "python",
   "pygments_lexer": "ipython2",
   "version": "2.7.14"
  }
 },
 "nbformat": 4,
 "nbformat_minor": 2
}
