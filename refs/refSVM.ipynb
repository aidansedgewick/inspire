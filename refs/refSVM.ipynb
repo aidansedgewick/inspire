{
 "cells": [
  {
   "cell_type": "code",
   "execution_count": 2,
   "metadata": {},
   "outputs": [
    {
     "name": "stderr",
     "output_type": "stream",
     "text": [
      "Using TensorFlow backend.\n"
     ]
    }
   ],
   "source": [
    "import numpy as np\n",
    "from scipy import sparse\n",
    "from sklearn import svm\n",
    "import pandas as pd\n",
    "import pickle\n",
    "from keras.layers import Dense\n",
    "from keras.models import Sequential\n",
    "import keras\n",
    "from collections import Counter\n",
    "import matplotlib.pyplot as plt\n",
    "from sklearn.metrics import confusion_matrix\n",
    "import itertools\n",
    "from keras.utils import to_categorical\n",
    "from sklearn.metrics import cohen_kappa_score\n",
    "from sklearn.model_selection import KFold, cross_val_score\n",
    "\n",
    "from keras.models import Sequential\n",
    "\n",
    "from keras.models import Sequential\n",
    "from keras.layers import Embedding, Dense, Flatten\n",
    "from keras.models import Sequential\n",
    "from keras.preprocessing.sequence import pad_sequences\n",
    "from keras.preprocessing.text import Tokenizer\n",
    "from keras.utils import to_categorical"
   ]
  },
  {
   "cell_type": "code",
   "execution_count": 5,
   "metadata": {},
   "outputs": [
    {
     "data": {
      "text/html": [
       "<div>\n",
       "<style>\n",
       "    .dataframe thead tr:only-child th {\n",
       "        text-align: right;\n",
       "    }\n",
       "\n",
       "    .dataframe thead th {\n",
       "        text-align: left;\n",
       "    }\n",
       "\n",
       "    .dataframe tbody tr th {\n",
       "        vertical-align: top;\n",
       "    }\n",
       "</style>\n",
       "<table border=\"1\" class=\"dataframe\">\n",
       "  <thead>\n",
       "    <tr style=\"text-align: right;\">\n",
       "      <th></th>\n",
       "      <th>Text</th>\n",
       "      <th>Title-sing</th>\n",
       "      <th>Title-bi</th>\n",
       "      <th>Title-tri</th>\n",
       "      <th>Title-quad</th>\n",
       "      <th>Abs-sing</th>\n",
       "      <th>Abs-bi</th>\n",
       "      <th>Abs-tri</th>\n",
       "      <th>Abs-quad</th>\n",
       "      <th>core refs</th>\n",
       "      <th>non-core refs</th>\n",
       "      <th>Result</th>\n",
       "    </tr>\n",
       "  </thead>\n",
       "  <tbody>\n",
       "    <tr>\n",
       "      <th>0</th>\n",
       "      <td>Mott Quantum Criticality in the Anisotropic 2D...</td>\n",
       "      <td>0</td>\n",
       "      <td>0</td>\n",
       "      <td>0</td>\n",
       "      <td>0</td>\n",
       "      <td>9</td>\n",
       "      <td>0</td>\n",
       "      <td>0</td>\n",
       "      <td>0</td>\n",
       "      <td>0.00000</td>\n",
       "      <td>0.50000</td>\n",
       "      <td>0</td>\n",
       "    </tr>\n",
       "    <tr>\n",
       "      <th>1</th>\n",
       "      <td>Balanced Reed-Solomon Codes We consider the pr...</td>\n",
       "      <td>0</td>\n",
       "      <td>0</td>\n",
       "      <td>0</td>\n",
       "      <td>0</td>\n",
       "      <td>11</td>\n",
       "      <td>1</td>\n",
       "      <td>0</td>\n",
       "      <td>0</td>\n",
       "      <td>0.00000</td>\n",
       "      <td>0.00000</td>\n",
       "      <td>0</td>\n",
       "    </tr>\n",
       "    <tr>\n",
       "      <th>2</th>\n",
       "      <td>Fermion Dipole Moment and Holography In the ba...</td>\n",
       "      <td>0</td>\n",
       "      <td>0</td>\n",
       "      <td>0</td>\n",
       "      <td>0</td>\n",
       "      <td>9</td>\n",
       "      <td>2</td>\n",
       "      <td>0</td>\n",
       "      <td>0</td>\n",
       "      <td>0.93617</td>\n",
       "      <td>0.00000</td>\n",
       "      <td>2</td>\n",
       "    </tr>\n",
       "    <tr>\n",
       "      <th>3</th>\n",
       "      <td>Quantization conditions and functional equatio...</td>\n",
       "      <td>0</td>\n",
       "      <td>0</td>\n",
       "      <td>0</td>\n",
       "      <td>0</td>\n",
       "      <td>9</td>\n",
       "      <td>1</td>\n",
       "      <td>0</td>\n",
       "      <td>0</td>\n",
       "      <td>0.92500</td>\n",
       "      <td>0.02500</td>\n",
       "      <td>2</td>\n",
       "    </tr>\n",
       "    <tr>\n",
       "      <th>4</th>\n",
       "      <td>Resonances in the continuum, field induced non...</td>\n",
       "      <td>2</td>\n",
       "      <td>0</td>\n",
       "      <td>0</td>\n",
       "      <td>0</td>\n",
       "      <td>6</td>\n",
       "      <td>0</td>\n",
       "      <td>0</td>\n",
       "      <td>0</td>\n",
       "      <td>0.00000</td>\n",
       "      <td>0.04386</td>\n",
       "      <td>0</td>\n",
       "    </tr>\n",
       "  </tbody>\n",
       "</table>\n",
       "</div>"
      ],
      "text/plain": [
       "                                                Text Title-sing Title-bi  \\\n",
       "0  Mott Quantum Criticality in the Anisotropic 2D...          0        0   \n",
       "1  Balanced Reed-Solomon Codes We consider the pr...          0        0   \n",
       "2  Fermion Dipole Moment and Holography In the ba...          0        0   \n",
       "3  Quantization conditions and functional equatio...          0        0   \n",
       "4  Resonances in the continuum, field induced non...          2        0   \n",
       "\n",
       "  Title-tri Title-quad Abs-sing Abs-bi Abs-tri Abs-quad  core refs  \\\n",
       "0         0          0        9      0       0        0    0.00000   \n",
       "1         0          0       11      1       0        0    0.00000   \n",
       "2         0          0        9      2       0        0    0.93617   \n",
       "3         0          0        9      1       0        0    0.92500   \n",
       "4         0          0        6      0       0        0    0.00000   \n",
       "\n",
       "   non-core refs  Result  \n",
       "0        0.50000       0  \n",
       "1        0.00000       0  \n",
       "2        0.00000       2  \n",
       "3        0.02500       2  \n",
       "4        0.04386       0  "
      ]
     },
     "execution_count": 5,
     "metadata": {},
     "output_type": "execute_result"
    }
   ],
   "source": [
    "inspire = pd.read_pickle('REFS')\n",
    "inspire = inspire.reset_index(drop=True)\n",
    "inspire.head()"
   ]
  },
  {
   "cell_type": "code",
   "execution_count": 6,
   "metadata": {},
   "outputs": [],
   "source": [
    "# tokenise text for later\n",
    "tokenizer = Tokenizer(num_words=10000)\n",
    "tokenizer.fit_on_texts(inspire['Text'])\n",
    "sequences = tokenizer.texts_to_sequences(inspire['Text'])\n",
    "data = pad_sequences(sequences, maxlen=500)"
   ]
  },
  {
   "cell_type": "code",
   "execution_count": 7,
   "metadata": {},
   "outputs": [],
   "source": [
    "# SPLIT DATA INTO TRAIN/ TEST\n",
    "training_samples = 3 * len(inspire) // 5\n",
    "validation_samples = len(inspire) // 5\n",
    "\n",
    "train = data[:training_samples]\n",
    "val = data[training_samples:training_samples + validation_samples]\n",
    "test = data[training_samples + validation_samples:]\n",
    "\n",
    "inspire_train = inspire[:training_samples]\n",
    "inspire_val = inspire[training_samples:training_samples + validation_samples].reset_index(drop=True)\n",
    "inspire_test = inspire[training_samples + validation_samples:].reset_index(drop=True)"
   ]
  },
  {
   "cell_type": "code",
   "execution_count": 8,
   "metadata": {},
   "outputs": [
    {
     "name": "stdout",
     "output_type": "stream",
     "text": [
      "(3522, 2017, 17725)\n",
      "{0: 6.6053378762067005, 1: 11.533961328705999, 2: 1.3124964739069112}\n"
     ]
    }
   ],
   "source": [
    "# FIND WEIGHTS FOR LATER\n",
    "N_core =    len( inspire_train['Result'][ inspire_train['Result'] == 2 ] )\n",
    "N_noncore = len( inspire_train['Result'][ inspire_train['Result'] == 1 ] )\n",
    "N_rej  =    len( inspire_train['Result'][ inspire_train['Result'] == 0 ] )\n",
    "\n",
    "print (N_core, N_noncore, N_rej)\n",
    "\n",
    "N_total = float(len(inspire_train['Result']))\n",
    "weights = {0: N_total/(N_core),\n",
    "          1: N_total/(N_noncore),\n",
    "           \n",
    "          2: N_total/(N_rej)}\n",
    "print (weights)"
   ]
  },
  {
   "cell_type": "markdown",
   "metadata": {},
   "source": [
    "## net "
   ]
  },
  {
   "cell_type": "markdown",
   "metadata": {},
   "source": [
    "here, I want to make a neurel net, train it for the text, syphon of the auxiliary layer and put it into an SVM with the reference data"
   ]
  },
  {
   "cell_type": "code",
   "execution_count": 9,
   "metadata": {},
   "outputs": [],
   "source": [
    "from keras.layers import Input, Embedding, LSTM, Dense\n",
    "from keras.models import Model\n",
    "\n",
    "main_input = Input(shape=(500,), dtype='float', name='main_input')\n",
    "x = Embedding(output_dim=100, input_dim=10000, input_length = 500)(main_input)\n",
    "x = Flatten()(x)\n",
    "x = Dense(32, activation='relu')(x)\n",
    "x = Dense(32, activation='relu')(x)\n",
    "auxiliary_output = Dense(32, activation='sigmoid', name='aux_output')(x)\n",
    "\n",
    "main_output = Dense(3, activation='softmax', name='main_output')(x)\n",
    "\n",
    "model = Model(inputs=[main_input], outputs=[main_output, auxiliary_output])\n",
    "model.compile(optimizer='rmsprop', loss='sparse_categorical_crossentropy', metrics=['acc'])"
   ]
  },
  {
   "cell_type": "code",
   "execution_count": 10,
   "metadata": {},
   "outputs": [
    {
     "name": "stdout",
     "output_type": "stream",
     "text": [
      "Train on 23264 samples, validate on 7754 samples\n",
      "Epoch 1/7\n",
      "23264/23264 [==============================] - 10s 415us/step - loss: 2.2342 - main_output_loss: 0.6720 - aux_output_loss: 1.5622 - main_output_acc: 0.7671 - aux_output_acc: 0.7420 - val_loss: 1.2446 - val_main_output_loss: 0.5680 - val_aux_output_loss: 0.6766 - val_main_output_acc: 0.7596 - val_aux_output_acc: 0.7564\n",
      "Epoch 2/7\n",
      "23264/23264 [==============================] - 9s 389us/step - loss: 0.8560 - main_output_loss: 0.3595 - aux_output_loss: 0.4965 - main_output_acc: 0.8750 - aux_output_acc: 0.7689 - val_loss: 0.7147 - val_main_output_loss: 0.2981 - val_aux_output_loss: 0.4166 - val_main_output_acc: 0.9017 - val_aux_output_acc: 0.8258\n",
      "Epoch 3/7\n",
      "23264/23264 [==============================] - 9s 396us/step - loss: 0.5241 - main_output_loss: 0.2410 - aux_output_loss: 0.2831 - main_output_acc: 0.9148 - aux_output_acc: 0.8995 - val_loss: 0.5328 - val_main_output_loss: 0.2625 - val_aux_output_loss: 0.2703 - val_main_output_acc: 0.9078 - val_aux_output_acc: 0.9047\n",
      "Epoch 4/7\n",
      "23264/23264 [==============================] - 10s 425us/step - loss: 0.3750 - main_output_loss: 0.1831 - aux_output_loss: 0.1919 - main_output_acc: 0.9364 - aux_output_acc: 0.9339 - val_loss: 0.5331 - val_main_output_loss: 0.2728 - val_aux_output_loss: 0.2604 - val_main_output_acc: 0.9052 - val_aux_output_acc: 0.9100\n",
      "Epoch 5/7\n",
      "23264/23264 [==============================] - 10s 409us/step - loss: 0.2661 - main_output_loss: 0.1295 - aux_output_loss: 0.1366 - main_output_acc: 0.9564 - aux_output_acc: 0.9535 - val_loss: 0.8211 - val_main_output_loss: 0.4287 - val_aux_output_loss: 0.3925 - val_main_output_acc: 0.8540 - val_aux_output_acc: 0.8629\n",
      "Epoch 6/7\n",
      "23264/23264 [==============================] - 10s 414us/step - loss: 0.1741 - main_output_loss: 0.0825 - aux_output_loss: 0.0916 - main_output_acc: 0.9723 - aux_output_acc: 0.9698 - val_loss: 0.6038 - val_main_output_loss: 0.3079 - val_aux_output_loss: 0.2959 - val_main_output_acc: 0.9037 - val_aux_output_acc: 0.9056\n",
      "Epoch 7/7\n",
      "23264/23264 [==============================] - 10s 422us/step - loss: 0.0900 - main_output_loss: 0.0414 - aux_output_loss: 0.0486 - main_output_acc: 0.9876 - aux_output_acc: 0.9862 - val_loss: 0.6750 - val_main_output_loss: 0.3452 - val_aux_output_loss: 0.3298 - val_main_output_acc: 0.8948 - val_aux_output_acc: 0.8985\n"
     ]
    }
   ],
   "source": [
    "history = model.fit({'main_input': train}, \n",
    "                    {'main_output': inspire_train['Result'], 'aux_output': inspire_train['Result']}, \n",
    "                    epochs=7, batch_size=300, class_weight=weights,\n",
    "                    validation_data=({'main_input':val},\n",
    "                                     {'main_output': inspire_val['Result'],'aux_output': inspire_val['Result']}))"
   ]
  },
  {
   "cell_type": "code",
   "execution_count": 12,
   "metadata": {},
   "outputs": [
    {
     "data": {
      "image/png": "[encoded data removed]",
      "text/plain": [
       "<matplotlib.figure.Figure at 0x1a25ccf290>"
      ]
     },
     "metadata": {},
     "output_type": "display_data"
    }
   ],
   "source": [
    "acc = history.history['aux_output_acc']\n",
    "val_acc = history.history['val_aux_output_acc']\n",
    "\n",
    "epochs = range(1, len(acc) + 1)\n",
    "\n",
    "plt.figure(figsize=(16, 9))\n",
    "plt.plot(epochs, acc, 'bo', label='Training acc')\n",
    "plt.plot(epochs, val_acc, 'b', label='Validation acc')\n",
    "plt.title('Training and validation accuracy')\n",
    "plt.legend()\n",
    "\n",
    "plt.show()"
   ]
  },
  {
   "cell_type": "markdown",
   "metadata": {},
   "source": [
    "Now, we can take the auxiliary data and play with it. Theres 16 columns, thats quite a lot, maybe do PCA with it?"
   ]
  },
  {
   "cell_type": "code",
   "execution_count": 13,
   "metadata": {},
   "outputs": [
    {
     "data": {
      "text/plain": [
       "3"
      ]
     },
     "execution_count": 13,
     "metadata": {},
     "output_type": "execute_result"
    }
   ],
   "source": [
    "# put training/ val through model\n",
    "Ptrain = model.predict(train)\n",
    "Pvec = model.predict(val)\n",
    "# take just the aux stuff\n",
    "T = Ptrain[1]\n",
    "V = Pvec[1]\n",
    "# lets try reduce dimensionality\n",
    "from sklearn.decomposition import PCA\n",
    "pca = PCA(.99999)\n",
    "pca.fit(T)\n",
    "pca.n_components_"
   ]
  },
  {
   "cell_type": "code",
   "execution_count": 14,
   "metadata": {},
   "outputs": [],
   "source": [
    "# do the transform: 32 -> 3\n",
    "Ptr = pca.transform(T)\n",
    "Pv = pca.transform(V)"
   ]
  },
  {
   "cell_type": "code",
   "execution_count": 15,
   "metadata": {},
   "outputs": [
    {
     "name": "stdout",
     "output_type": "stream",
     "text": [
      "0.898375032241\n"
     ]
    }
   ],
   "source": [
    "#check to see if its all good\n",
    "svc = svm.SVC(decision_function_shape='ovo', kernel='linear',probability=True)\n",
    "SVC = svc.fit(Ptr, inspire_train['Result'])\n",
    "\n",
    "print SVC.score(Pv, inspire_val['Result'])"
   ]
  },
  {
   "cell_type": "markdown",
   "metadata": {},
   "source": [
    "build a new df"
   ]
  },
  {
   "cell_type": "code",
   "execution_count": 16,
   "metadata": {},
   "outputs": [],
   "source": [
    "#put the 3 PC columns into original df's\n",
    "PCA_ = ['PC1', 'PC2', 'PC3']\n",
    "training = pd.DataFrame(Ptr, columns=PCA_)\n",
    "inspire_train = pd.concat([inspire_train, training], axis = 1)\n",
    "\n",
    "vali = pd.DataFrame(Pv, columns=PCA_)\n",
    "inspire_val   = pd.concat([inspire_val, vali], axis = 1)"
   ]
  },
  {
   "cell_type": "markdown",
   "metadata": {},
   "source": [
    "## SVM "
   ]
  },
  {
   "cell_type": "code",
   "execution_count": 17,
   "metadata": {},
   "outputs": [
    {
     "name": "stdout",
     "output_type": "stream",
     "text": [
      "0.911400567449\n"
     ]
    }
   ],
   "source": [
    "# quick check of quality\n",
    "inputs = ['Title-sing', 'Title-bi', 'Title-tri', 'Title-quad', 'Abs-sing','Abs-bi', 'Abs-tri', 'Abs-quad','core refs', 'non-core refs', 'PC1', 'PC2', 'PC3']\n",
    "svc = svm.SVC(decision_function_shape='ovo', kernel='linear', C=615, probability=True)\n",
    "SVC = svc.fit(inspire_train[inputs], inspire_train['Result'])\n",
    "print SVC.score(inspire_val[inputs], inspire_val['Result'])"
   ]
  },
  {
   "cell_type": "code",
   "execution_count": 52,
   "metadata": {},
   "outputs": [
    {
     "name": "stdout",
     "output_type": "stream",
     "text": [
      "[[  0.79   3.81   1.7 ]\n",
      " [  1.41   1.7    0.04]\n",
      " [ 14.58  12.91   1.36]\n",
      " ..., \n",
      " [ 28.21  24.35   1.9 ]\n",
      " [  7.38   6.47  -0.07]\n",
      " [  0.49   1.67  -0.09]]\n"
     ]
    }
   ],
   "source": [
    "dec = svc.decision_function(inspire_val[inputs])\n",
    "print dec"
   ]
  },
  {
   "cell_type": "code",
   "execution_count": 29,
   "metadata": {},
   "outputs": [
    {
     "name": "stdout",
     "output_type": "stream",
     "text": [
      "[ 0.97  0.02  0.01]\n"
     ]
    }
   ],
   "source": [
    "class_probabilities = svc.predict_proba(inspire_val[inputs])\n",
    "print class_probabilities[7735]"
   ]
  },
  {
   "cell_type": "markdown",
   "metadata": {},
   "source": [
    "scores"
   ]
  },
  {
   "cell_type": "code",
   "execution_count": 20,
   "metadata": {},
   "outputs": [
    {
     "ename": "KeyboardInterrupt",
     "evalue": "",
     "output_type": "error",
     "traceback": [
      "\u001b[0;31m---------------------------------------------------------------------------\u001b[0m",
      "\u001b[0;31mKeyboardInterrupt\u001b[0m                         Traceback (most recent call last)",
      "\u001b[0;32m<ipython-input-20-07c482acbed1>\u001b[0m in \u001b[0;36m<module>\u001b[0;34m()\u001b[0m\n\u001b[1;32m     11\u001b[0m \u001b[0;32mfor\u001b[0m \u001b[0mC\u001b[0m \u001b[0;32min\u001b[0m \u001b[0mC_s\u001b[0m\u001b[0;34m:\u001b[0m\u001b[0;34m\u001b[0m\u001b[0m\n\u001b[1;32m     12\u001b[0m     \u001b[0msvc\u001b[0m\u001b[0;34m.\u001b[0m\u001b[0mC\u001b[0m \u001b[0;34m=\u001b[0m \u001b[0mC\u001b[0m\u001b[0;34m\u001b[0m\u001b[0m\n\u001b[0;32m---> 13\u001b[0;31m     \u001b[0mthis_scores\u001b[0m \u001b[0;34m=\u001b[0m \u001b[0mcross_val_score\u001b[0m\u001b[0;34m(\u001b[0m\u001b[0msvc\u001b[0m\u001b[0;34m,\u001b[0m \u001b[0mX\u001b[0m\u001b[0;34m,\u001b[0m \u001b[0my\u001b[0m\u001b[0;34m,\u001b[0m \u001b[0mn_jobs\u001b[0m\u001b[0;34m=\u001b[0m\u001b[0;36m1\u001b[0m\u001b[0;34m)\u001b[0m\u001b[0;34m\u001b[0m\u001b[0m\n\u001b[0m\u001b[1;32m     14\u001b[0m     \u001b[0mscores\u001b[0m\u001b[0;34m.\u001b[0m\u001b[0mappend\u001b[0m\u001b[0;34m(\u001b[0m\u001b[0mnp\u001b[0m\u001b[0;34m.\u001b[0m\u001b[0mmean\u001b[0m\u001b[0;34m(\u001b[0m\u001b[0mthis_scores\u001b[0m\u001b[0;34m)\u001b[0m\u001b[0;34m)\u001b[0m\u001b[0;34m\u001b[0m\u001b[0m\n\u001b[1;32m     15\u001b[0m     \u001b[0mscores_std\u001b[0m\u001b[0;34m.\u001b[0m\u001b[0mappend\u001b[0m\u001b[0;34m(\u001b[0m\u001b[0mnp\u001b[0m\u001b[0;34m.\u001b[0m\u001b[0mstd\u001b[0m\u001b[0;34m(\u001b[0m\u001b[0mthis_scores\u001b[0m\u001b[0;34m)\u001b[0m\u001b[0;34m)\u001b[0m\u001b[0;34m\u001b[0m\u001b[0m\n",
      "\u001b[0;32m/Users/andrewblance/anaconda2/lib/python2.7/site-packages/sklearn/model_selection/_validation.pyc\u001b[0m in \u001b[0;36mcross_val_score\u001b[0;34m(estimator, X, y, groups, scoring, cv, n_jobs, verbose, fit_params, pre_dispatch)\u001b[0m\n\u001b[1;32m    340\u001b[0m                                 \u001b[0mn_jobs\u001b[0m\u001b[0;34m=\u001b[0m\u001b[0mn_jobs\u001b[0m\u001b[0;34m,\u001b[0m \u001b[0mverbose\u001b[0m\u001b[0;34m=\u001b[0m\u001b[0mverbose\u001b[0m\u001b[0;34m,\u001b[0m\u001b[0;34m\u001b[0m\u001b[0m\n\u001b[1;32m    341\u001b[0m                                 \u001b[0mfit_params\u001b[0m\u001b[0;34m=\u001b[0m\u001b[0mfit_params\u001b[0m\u001b[0;34m,\u001b[0m\u001b[0;34m\u001b[0m\u001b[0m\n\u001b[0;32m--> 342\u001b[0;31m                                 pre_dispatch=pre_dispatch)\n\u001b[0m\u001b[1;32m    343\u001b[0m     \u001b[0;32mreturn\u001b[0m \u001b[0mcv_results\u001b[0m\u001b[0;34m[\u001b[0m\u001b[0;34m'test_score'\u001b[0m\u001b[0;34m]\u001b[0m\u001b[0;34m\u001b[0m\u001b[0m\n\u001b[1;32m    344\u001b[0m \u001b[0;34m\u001b[0m\u001b[0m\n",
      "\u001b[0;32m/Users/andrewblance/anaconda2/lib/python2.7/site-packages/sklearn/model_selection/_validation.pyc\u001b[0m in \u001b[0;36mcross_validate\u001b[0;34m(estimator, X, y, groups, scoring, cv, n_jobs, verbose, fit_params, pre_dispatch, return_train_score)\u001b[0m\n\u001b[1;32m    204\u001b[0m             \u001b[0mfit_params\u001b[0m\u001b[0;34m,\u001b[0m \u001b[0mreturn_train_score\u001b[0m\u001b[0;34m=\u001b[0m\u001b[0mreturn_train_score\u001b[0m\u001b[0;34m,\u001b[0m\u001b[0;34m\u001b[0m\u001b[0m\n\u001b[1;32m    205\u001b[0m             return_times=True)\n\u001b[0;32m--> 206\u001b[0;31m         for train, test in cv.split(X, y, groups))\n\u001b[0m\u001b[1;32m    207\u001b[0m \u001b[0;34m\u001b[0m\u001b[0m\n\u001b[1;32m    208\u001b[0m     \u001b[0;32mif\u001b[0m \u001b[0mreturn_train_score\u001b[0m\u001b[0;34m:\u001b[0m\u001b[0;34m\u001b[0m\u001b[0m\n",
      "\u001b[0;32m/Users/andrewblance/anaconda2/lib/python2.7/site-packages/sklearn/externals/joblib/parallel.pyc\u001b[0m in \u001b[0;36m__call__\u001b[0;34m(self, iterable)\u001b[0m\n\u001b[1;32m    777\u001b[0m             \u001b[0;31m# was dispatched. In particular this covers the edge\u001b[0m\u001b[0;34m\u001b[0m\u001b[0;34m\u001b[0m\u001b[0m\n\u001b[1;32m    778\u001b[0m             \u001b[0;31m# case of Parallel used with an exhausted iterator.\u001b[0m\u001b[0;34m\u001b[0m\u001b[0;34m\u001b[0m\u001b[0m\n\u001b[0;32m--> 779\u001b[0;31m             \u001b[0;32mwhile\u001b[0m \u001b[0mself\u001b[0m\u001b[0;34m.\u001b[0m\u001b[0mdispatch_one_batch\u001b[0m\u001b[0;34m(\u001b[0m\u001b[0miterator\u001b[0m\u001b[0;34m)\u001b[0m\u001b[0;34m:\u001b[0m\u001b[0;34m\u001b[0m\u001b[0m\n\u001b[0m\u001b[1;32m    780\u001b[0m                 \u001b[0mself\u001b[0m\u001b[0;34m.\u001b[0m\u001b[0m_iterating\u001b[0m \u001b[0;34m=\u001b[0m \u001b[0mTrue\u001b[0m\u001b[0;34m\u001b[0m\u001b[0m\n\u001b[1;32m    781\u001b[0m             \u001b[0;32melse\u001b[0m\u001b[0;34m:\u001b[0m\u001b[0;34m\u001b[0m\u001b[0m\n",
      "\u001b[0;32m/Users/andrewblance/anaconda2/lib/python2.7/site-packages/sklearn/externals/joblib/parallel.pyc\u001b[0m in \u001b[0;36mdispatch_one_batch\u001b[0;34m(self, iterator)\u001b[0m\n\u001b[1;32m    623\u001b[0m                 \u001b[0;32mreturn\u001b[0m \u001b[0mFalse\u001b[0m\u001b[0;34m\u001b[0m\u001b[0m\n\u001b[1;32m    624\u001b[0m             \u001b[0;32melse\u001b[0m\u001b[0;34m:\u001b[0m\u001b[0;34m\u001b[0m\u001b[0m\n\u001b[0;32m--> 625\u001b[0;31m                 \u001b[0mself\u001b[0m\u001b[0;34m.\u001b[0m\u001b[0m_dispatch\u001b[0m\u001b[0;34m(\u001b[0m\u001b[0mtasks\u001b[0m\u001b[0;34m)\u001b[0m\u001b[0;34m\u001b[0m\u001b[0m\n\u001b[0m\u001b[1;32m    626\u001b[0m                 \u001b[0;32mreturn\u001b[0m \u001b[0mTrue\u001b[0m\u001b[0;34m\u001b[0m\u001b[0m\n\u001b[1;32m    627\u001b[0m \u001b[0;34m\u001b[0m\u001b[0m\n",
      "\u001b[0;32m/Users/andrewblance/anaconda2/lib/python2.7/site-packages/sklearn/externals/joblib/parallel.pyc\u001b[0m in \u001b[0;36m_dispatch\u001b[0;34m(self, batch)\u001b[0m\n\u001b[1;32m    586\u001b[0m         \u001b[0mdispatch_timestamp\u001b[0m \u001b[0;34m=\u001b[0m \u001b[0mtime\u001b[0m\u001b[0;34m.\u001b[0m\u001b[0mtime\u001b[0m\u001b[0;34m(\u001b[0m\u001b[0;34m)\u001b[0m\u001b[0;34m\u001b[0m\u001b[0m\n\u001b[1;32m    587\u001b[0m         \u001b[0mcb\u001b[0m \u001b[0;34m=\u001b[0m \u001b[0mBatchCompletionCallBack\u001b[0m\u001b[0;34m(\u001b[0m\u001b[0mdispatch_timestamp\u001b[0m\u001b[0;34m,\u001b[0m \u001b[0mlen\u001b[0m\u001b[0;34m(\u001b[0m\u001b[0mbatch\u001b[0m\u001b[0;34m)\u001b[0m\u001b[0;34m,\u001b[0m \u001b[0mself\u001b[0m\u001b[0;34m)\u001b[0m\u001b[0;34m\u001b[0m\u001b[0m\n\u001b[0;32m--> 588\u001b[0;31m         \u001b[0mjob\u001b[0m \u001b[0;34m=\u001b[0m \u001b[0mself\u001b[0m\u001b[0;34m.\u001b[0m\u001b[0m_backend\u001b[0m\u001b[0;34m.\u001b[0m\u001b[0mapply_async\u001b[0m\u001b[0;34m(\u001b[0m\u001b[0mbatch\u001b[0m\u001b[0;34m,\u001b[0m \u001b[0mcallback\u001b[0m\u001b[0;34m=\u001b[0m\u001b[0mcb\u001b[0m\u001b[0;34m)\u001b[0m\u001b[0;34m\u001b[0m\u001b[0m\n\u001b[0m\u001b[1;32m    589\u001b[0m         \u001b[0mself\u001b[0m\u001b[0;34m.\u001b[0m\u001b[0m_jobs\u001b[0m\u001b[0;34m.\u001b[0m\u001b[0mappend\u001b[0m\u001b[0;34m(\u001b[0m\u001b[0mjob\u001b[0m\u001b[0;34m)\u001b[0m\u001b[0;34m\u001b[0m\u001b[0m\n\u001b[1;32m    590\u001b[0m \u001b[0;34m\u001b[0m\u001b[0m\n",
      "\u001b[0;32m/Users/andrewblance/anaconda2/lib/python2.7/site-packages/sklearn/externals/joblib/_parallel_backends.pyc\u001b[0m in \u001b[0;36mapply_async\u001b[0;34m(self, func, callback)\u001b[0m\n\u001b[1;32m    109\u001b[0m     \u001b[0;32mdef\u001b[0m \u001b[0mapply_async\u001b[0m\u001b[0;34m(\u001b[0m\u001b[0mself\u001b[0m\u001b[0;34m,\u001b[0m \u001b[0mfunc\u001b[0m\u001b[0;34m,\u001b[0m \u001b[0mcallback\u001b[0m\u001b[0;34m=\u001b[0m\u001b[0mNone\u001b[0m\u001b[0;34m)\u001b[0m\u001b[0;34m:\u001b[0m\u001b[0;34m\u001b[0m\u001b[0m\n\u001b[1;32m    110\u001b[0m         \u001b[0;34m\"\"\"Schedule a func to be run\"\"\"\u001b[0m\u001b[0;34m\u001b[0m\u001b[0m\n\u001b[0;32m--> 111\u001b[0;31m         \u001b[0mresult\u001b[0m \u001b[0;34m=\u001b[0m \u001b[0mImmediateResult\u001b[0m\u001b[0;34m(\u001b[0m\u001b[0mfunc\u001b[0m\u001b[0;34m)\u001b[0m\u001b[0;34m\u001b[0m\u001b[0m\n\u001b[0m\u001b[1;32m    112\u001b[0m         \u001b[0;32mif\u001b[0m \u001b[0mcallback\u001b[0m\u001b[0;34m:\u001b[0m\u001b[0;34m\u001b[0m\u001b[0m\n\u001b[1;32m    113\u001b[0m             \u001b[0mcallback\u001b[0m\u001b[0;34m(\u001b[0m\u001b[0mresult\u001b[0m\u001b[0;34m)\u001b[0m\u001b[0;34m\u001b[0m\u001b[0m\n",
      "\u001b[0;32m/Users/andrewblance/anaconda2/lib/python2.7/site-packages/sklearn/externals/joblib/_parallel_backends.pyc\u001b[0m in \u001b[0;36m__init__\u001b[0;34m(self, batch)\u001b[0m\n\u001b[1;32m    330\u001b[0m         \u001b[0;31m# Don't delay the application, to avoid keeping the input\u001b[0m\u001b[0;34m\u001b[0m\u001b[0;34m\u001b[0m\u001b[0m\n\u001b[1;32m    331\u001b[0m         \u001b[0;31m# arguments in memory\u001b[0m\u001b[0;34m\u001b[0m\u001b[0;34m\u001b[0m\u001b[0m\n\u001b[0;32m--> 332\u001b[0;31m         \u001b[0mself\u001b[0m\u001b[0;34m.\u001b[0m\u001b[0mresults\u001b[0m \u001b[0;34m=\u001b[0m \u001b[0mbatch\u001b[0m\u001b[0;34m(\u001b[0m\u001b[0;34m)\u001b[0m\u001b[0;34m\u001b[0m\u001b[0m\n\u001b[0m\u001b[1;32m    333\u001b[0m \u001b[0;34m\u001b[0m\u001b[0m\n\u001b[1;32m    334\u001b[0m     \u001b[0;32mdef\u001b[0m \u001b[0mget\u001b[0m\u001b[0;34m(\u001b[0m\u001b[0mself\u001b[0m\u001b[0;34m)\u001b[0m\u001b[0;34m:\u001b[0m\u001b[0;34m\u001b[0m\u001b[0m\n",
      "\u001b[0;32m/Users/andrewblance/anaconda2/lib/python2.7/site-packages/sklearn/externals/joblib/parallel.pyc\u001b[0m in \u001b[0;36m__call__\u001b[0;34m(self)\u001b[0m\n\u001b[1;32m    129\u001b[0m \u001b[0;34m\u001b[0m\u001b[0m\n\u001b[1;32m    130\u001b[0m     \u001b[0;32mdef\u001b[0m \u001b[0m__call__\u001b[0m\u001b[0;34m(\u001b[0m\u001b[0mself\u001b[0m\u001b[0;34m)\u001b[0m\u001b[0;34m:\u001b[0m\u001b[0;34m\u001b[0m\u001b[0m\n\u001b[0;32m--> 131\u001b[0;31m         \u001b[0;32mreturn\u001b[0m \u001b[0;34m[\u001b[0m\u001b[0mfunc\u001b[0m\u001b[0;34m(\u001b[0m\u001b[0;34m*\u001b[0m\u001b[0margs\u001b[0m\u001b[0;34m,\u001b[0m \u001b[0;34m**\u001b[0m\u001b[0mkwargs\u001b[0m\u001b[0;34m)\u001b[0m \u001b[0;32mfor\u001b[0m \u001b[0mfunc\u001b[0m\u001b[0;34m,\u001b[0m \u001b[0margs\u001b[0m\u001b[0;34m,\u001b[0m \u001b[0mkwargs\u001b[0m \u001b[0;32min\u001b[0m \u001b[0mself\u001b[0m\u001b[0;34m.\u001b[0m\u001b[0mitems\u001b[0m\u001b[0;34m]\u001b[0m\u001b[0;34m\u001b[0m\u001b[0m\n\u001b[0m\u001b[1;32m    132\u001b[0m \u001b[0;34m\u001b[0m\u001b[0m\n\u001b[1;32m    133\u001b[0m     \u001b[0;32mdef\u001b[0m \u001b[0m__len__\u001b[0m\u001b[0;34m(\u001b[0m\u001b[0mself\u001b[0m\u001b[0;34m)\u001b[0m\u001b[0;34m:\u001b[0m\u001b[0;34m\u001b[0m\u001b[0m\n",
      "\u001b[0;32m/Users/andrewblance/anaconda2/lib/python2.7/site-packages/sklearn/model_selection/_validation.pyc\u001b[0m in \u001b[0;36m_fit_and_score\u001b[0;34m(estimator, X, y, scorer, train, test, verbose, parameters, fit_params, return_train_score, return_parameters, return_n_test_samples, return_times, error_score)\u001b[0m\n\u001b[1;32m    456\u001b[0m             \u001b[0mestimator\u001b[0m\u001b[0;34m.\u001b[0m\u001b[0mfit\u001b[0m\u001b[0;34m(\u001b[0m\u001b[0mX_train\u001b[0m\u001b[0;34m,\u001b[0m \u001b[0;34m**\u001b[0m\u001b[0mfit_params\u001b[0m\u001b[0;34m)\u001b[0m\u001b[0;34m\u001b[0m\u001b[0m\n\u001b[1;32m    457\u001b[0m         \u001b[0;32melse\u001b[0m\u001b[0;34m:\u001b[0m\u001b[0;34m\u001b[0m\u001b[0m\n\u001b[0;32m--> 458\u001b[0;31m             \u001b[0mestimator\u001b[0m\u001b[0;34m.\u001b[0m\u001b[0mfit\u001b[0m\u001b[0;34m(\u001b[0m\u001b[0mX_train\u001b[0m\u001b[0;34m,\u001b[0m \u001b[0my_train\u001b[0m\u001b[0;34m,\u001b[0m \u001b[0;34m**\u001b[0m\u001b[0mfit_params\u001b[0m\u001b[0;34m)\u001b[0m\u001b[0;34m\u001b[0m\u001b[0m\n\u001b[0m\u001b[1;32m    459\u001b[0m \u001b[0;34m\u001b[0m\u001b[0m\n\u001b[1;32m    460\u001b[0m     \u001b[0;32mexcept\u001b[0m \u001b[0mException\u001b[0m \u001b[0;32mas\u001b[0m \u001b[0me\u001b[0m\u001b[0;34m:\u001b[0m\u001b[0;34m\u001b[0m\u001b[0m\n",
      "\u001b[0;32m/Users/andrewblance/anaconda2/lib/python2.7/site-packages/sklearn/svm/base.pyc\u001b[0m in \u001b[0;36mfit\u001b[0;34m(self, X, y, sample_weight)\u001b[0m\n\u001b[1;32m    185\u001b[0m \u001b[0;34m\u001b[0m\u001b[0m\n\u001b[1;32m    186\u001b[0m         \u001b[0mseed\u001b[0m \u001b[0;34m=\u001b[0m \u001b[0mrnd\u001b[0m\u001b[0;34m.\u001b[0m\u001b[0mrandint\u001b[0m\u001b[0;34m(\u001b[0m\u001b[0mnp\u001b[0m\u001b[0;34m.\u001b[0m\u001b[0miinfo\u001b[0m\u001b[0;34m(\u001b[0m\u001b[0;34m'i'\u001b[0m\u001b[0;34m)\u001b[0m\u001b[0;34m.\u001b[0m\u001b[0mmax\u001b[0m\u001b[0;34m)\u001b[0m\u001b[0;34m\u001b[0m\u001b[0m\n\u001b[0;32m--> 187\u001b[0;31m         \u001b[0mfit\u001b[0m\u001b[0;34m(\u001b[0m\u001b[0mX\u001b[0m\u001b[0;34m,\u001b[0m \u001b[0my\u001b[0m\u001b[0;34m,\u001b[0m \u001b[0msample_weight\u001b[0m\u001b[0;34m,\u001b[0m \u001b[0msolver_type\u001b[0m\u001b[0;34m,\u001b[0m \u001b[0mkernel\u001b[0m\u001b[0;34m,\u001b[0m \u001b[0mrandom_seed\u001b[0m\u001b[0;34m=\u001b[0m\u001b[0mseed\u001b[0m\u001b[0;34m)\u001b[0m\u001b[0;34m\u001b[0m\u001b[0m\n\u001b[0m\u001b[1;32m    188\u001b[0m         \u001b[0;31m# see comment on the other call to np.iinfo in this file\u001b[0m\u001b[0;34m\u001b[0m\u001b[0;34m\u001b[0m\u001b[0m\n\u001b[1;32m    189\u001b[0m \u001b[0;34m\u001b[0m\u001b[0m\n",
      "\u001b[0;32m/Users/andrewblance/anaconda2/lib/python2.7/site-packages/sklearn/svm/base.pyc\u001b[0m in \u001b[0;36m_dense_fit\u001b[0;34m(self, X, y, sample_weight, solver_type, kernel, random_seed)\u001b[0m\n\u001b[1;32m    252\u001b[0m                 \u001b[0mcache_size\u001b[0m\u001b[0;34m=\u001b[0m\u001b[0mself\u001b[0m\u001b[0;34m.\u001b[0m\u001b[0mcache_size\u001b[0m\u001b[0;34m,\u001b[0m \u001b[0mcoef0\u001b[0m\u001b[0;34m=\u001b[0m\u001b[0mself\u001b[0m\u001b[0;34m.\u001b[0m\u001b[0mcoef0\u001b[0m\u001b[0;34m,\u001b[0m\u001b[0;34m\u001b[0m\u001b[0m\n\u001b[1;32m    253\u001b[0m                 \u001b[0mgamma\u001b[0m\u001b[0;34m=\u001b[0m\u001b[0mself\u001b[0m\u001b[0;34m.\u001b[0m\u001b[0m_gamma\u001b[0m\u001b[0;34m,\u001b[0m \u001b[0mepsilon\u001b[0m\u001b[0;34m=\u001b[0m\u001b[0mself\u001b[0m\u001b[0;34m.\u001b[0m\u001b[0mepsilon\u001b[0m\u001b[0;34m,\u001b[0m\u001b[0;34m\u001b[0m\u001b[0m\n\u001b[0;32m--> 254\u001b[0;31m                 max_iter=self.max_iter, random_seed=random_seed)\n\u001b[0m\u001b[1;32m    255\u001b[0m \u001b[0;34m\u001b[0m\u001b[0m\n\u001b[1;32m    256\u001b[0m         \u001b[0mself\u001b[0m\u001b[0;34m.\u001b[0m\u001b[0m_warn_from_fit_status\u001b[0m\u001b[0;34m(\u001b[0m\u001b[0;34m)\u001b[0m\u001b[0;34m\u001b[0m\u001b[0m\n",
      "\u001b[0;31mKeyboardInterrupt\u001b[0m: "
     ]
    }
   ],
   "source": [
    "X = inspire_train[inputs]\n",
    "y = inspire_train['Result']\n",
    "\n",
    "#svc = svm.SVC(kernel='linear')\n",
    "#svc = svm.SVC(decision_function_shape='ovo')\n",
    "\n",
    "C_s = np.logspace(-1, 3, 20)\n",
    "\n",
    "scores = list()\n",
    "scores_std = list()\n",
    "for C in C_s:\n",
    "    svc.C = C\n",
    "    this_scores = cross_val_score(svc, X, y, n_jobs=1)\n",
    "    scores.append(np.mean(this_scores))\n",
    "    scores_std.append(np.std(this_scores))\n",
    "\n",
    "# Do the plotting\n",
    "import matplotlib.pyplot as plt\n",
    "plt.figure(1, figsize=(4, 3))\n",
    "plt.clf()\n",
    "plt.semilogx(C_s, scores)\n",
    "plt.semilogx(C_s, np.array(scores) + np.array(scores_std), 'b--')\n",
    "plt.semilogx(C_s, np.array(scores) - np.array(scores_std), 'b--')\n",
    "locs, labels = plt.yticks()\n",
    "plt.yticks(locs, list(map(lambda x: \"%g\" % x, locs)))\n",
    "plt.ylabel('CV score')\n",
    "plt.xlabel('Parameter C')\n",
    "plt.ylim(0.7, 1 )\n",
    "plt.show()"
   ]
  },
  {
   "cell_type": "code",
   "execution_count": 34,
   "metadata": {},
   "outputs": [
    {
     "ename": "KeyboardInterrupt",
     "evalue": "",
     "output_type": "error",
     "traceback": [
      "\u001b[0;31m---------------------------------------------------------------------------\u001b[0m",
      "\u001b[0;31mKeyboardInterrupt\u001b[0m                         Traceback (most recent call last)",
      "\u001b[0;32m<ipython-input-34-546540e412d2>\u001b[0m in \u001b[0;36m<module>\u001b[0;34m()\u001b[0m\n\u001b[1;32m      3\u001b[0m \u001b[0mclf\u001b[0m \u001b[0;34m=\u001b[0m \u001b[0mGridSearchCV\u001b[0m\u001b[0;34m(\u001b[0m\u001b[0mestimator\u001b[0m\u001b[0;34m=\u001b[0m\u001b[0msvc\u001b[0m\u001b[0;34m,\u001b[0m \u001b[0mparam_grid\u001b[0m\u001b[0;34m=\u001b[0m\u001b[0mdict\u001b[0m\u001b[0;34m(\u001b[0m\u001b[0mC\u001b[0m\u001b[0;34m=\u001b[0m\u001b[0mCs\u001b[0m\u001b[0;34m)\u001b[0m\u001b[0;34m,\u001b[0m \u001b[0mn_jobs\u001b[0m\u001b[0;34m=\u001b[0m\u001b[0;34m-\u001b[0m\u001b[0;36m1\u001b[0m\u001b[0;34m)\u001b[0m\u001b[0;34m\u001b[0m\u001b[0m\n\u001b[1;32m      4\u001b[0m \u001b[0;34m\u001b[0m\u001b[0m\n\u001b[0;32m----> 5\u001b[0;31m \u001b[0mclf\u001b[0m\u001b[0;34m.\u001b[0m\u001b[0mfit\u001b[0m\u001b[0;34m(\u001b[0m\u001b[0minspire_train\u001b[0m\u001b[0;34m[\u001b[0m\u001b[0minputs\u001b[0m\u001b[0;34m]\u001b[0m\u001b[0;34m,\u001b[0m \u001b[0minspire_train\u001b[0m\u001b[0;34m[\u001b[0m\u001b[0;34m'Result'\u001b[0m\u001b[0;34m]\u001b[0m\u001b[0;34m)\u001b[0m\u001b[0;34m\u001b[0m\u001b[0m\n\u001b[0m\u001b[1;32m      6\u001b[0m \u001b[0;34m\u001b[0m\u001b[0m\n\u001b[1;32m      7\u001b[0m \u001b[0;32mprint\u001b[0m \u001b[0mclf\u001b[0m\u001b[0;34m.\u001b[0m\u001b[0mbest_score_\u001b[0m\u001b[0;34m\u001b[0m\u001b[0m\n",
      "\u001b[0;32m/home/andrewblance/anaconda2/lib/python2.7/site-packages/sklearn/model_selection/_search.pyc\u001b[0m in \u001b[0;36mfit\u001b[0;34m(self, X, y, groups, **fit_params)\u001b[0m\n\u001b[1;32m    637\u001b[0m                                   error_score=self.error_score)\n\u001b[1;32m    638\u001b[0m           for parameters, (train, test) in product(candidate_params,\n\u001b[0;32m--> 639\u001b[0;31m                                                    cv.split(X, y, groups)))\n\u001b[0m\u001b[1;32m    640\u001b[0m \u001b[0;34m\u001b[0m\u001b[0m\n\u001b[1;32m    641\u001b[0m         \u001b[0;31m# if one choose to see train score, \"out\" will contain train score info\u001b[0m\u001b[0;34m\u001b[0m\u001b[0;34m\u001b[0m\u001b[0m\n",
      "\u001b[0;32m/home/andrewblance/anaconda2/lib/python2.7/site-packages/sklearn/externals/joblib/parallel.pyc\u001b[0m in \u001b[0;36m__call__\u001b[0;34m(self, iterable)\u001b[0m\n\u001b[1;32m    787\u001b[0m                 \u001b[0;31m# consumption.\u001b[0m\u001b[0;34m\u001b[0m\u001b[0;34m\u001b[0m\u001b[0m\n\u001b[1;32m    788\u001b[0m                 \u001b[0mself\u001b[0m\u001b[0;34m.\u001b[0m\u001b[0m_iterating\u001b[0m \u001b[0;34m=\u001b[0m \u001b[0mFalse\u001b[0m\u001b[0;34m\u001b[0m\u001b[0m\n\u001b[0;32m--> 789\u001b[0;31m             \u001b[0mself\u001b[0m\u001b[0;34m.\u001b[0m\u001b[0mretrieve\u001b[0m\u001b[0;34m(\u001b[0m\u001b[0;34m)\u001b[0m\u001b[0;34m\u001b[0m\u001b[0m\n\u001b[0m\u001b[1;32m    790\u001b[0m             \u001b[0;31m# Make sure that we get a last message telling us we are done\u001b[0m\u001b[0;34m\u001b[0m\u001b[0;34m\u001b[0m\u001b[0m\n\u001b[1;32m    791\u001b[0m             \u001b[0melapsed_time\u001b[0m \u001b[0;34m=\u001b[0m \u001b[0mtime\u001b[0m\u001b[0;34m.\u001b[0m\u001b[0mtime\u001b[0m\u001b[0;34m(\u001b[0m\u001b[0;34m)\u001b[0m \u001b[0;34m-\u001b[0m \u001b[0mself\u001b[0m\u001b[0;34m.\u001b[0m\u001b[0m_start_time\u001b[0m\u001b[0;34m\u001b[0m\u001b[0m\n",
      "\u001b[0;32m/home/andrewblance/anaconda2/lib/python2.7/site-packages/sklearn/externals/joblib/parallel.pyc\u001b[0m in \u001b[0;36mretrieve\u001b[0;34m(self)\u001b[0m\n\u001b[1;32m    697\u001b[0m             \u001b[0;32mtry\u001b[0m\u001b[0;34m:\u001b[0m\u001b[0;34m\u001b[0m\u001b[0m\n\u001b[1;32m    698\u001b[0m                 \u001b[0;32mif\u001b[0m \u001b[0mgetattr\u001b[0m\u001b[0;34m(\u001b[0m\u001b[0mself\u001b[0m\u001b[0;34m.\u001b[0m\u001b[0m_backend\u001b[0m\u001b[0;34m,\u001b[0m \u001b[0;34m'supports_timeout'\u001b[0m\u001b[0;34m,\u001b[0m \u001b[0mFalse\u001b[0m\u001b[0;34m)\u001b[0m\u001b[0;34m:\u001b[0m\u001b[0;34m\u001b[0m\u001b[0m\n\u001b[0;32m--> 699\u001b[0;31m                     \u001b[0mself\u001b[0m\u001b[0;34m.\u001b[0m\u001b[0m_output\u001b[0m\u001b[0;34m.\u001b[0m\u001b[0mextend\u001b[0m\u001b[0;34m(\u001b[0m\u001b[0mjob\u001b[0m\u001b[0;34m.\u001b[0m\u001b[0mget\u001b[0m\u001b[0;34m(\u001b[0m\u001b[0mtimeout\u001b[0m\u001b[0;34m=\u001b[0m\u001b[0mself\u001b[0m\u001b[0;34m.\u001b[0m\u001b[0mtimeout\u001b[0m\u001b[0;34m)\u001b[0m\u001b[0;34m)\u001b[0m\u001b[0;34m\u001b[0m\u001b[0m\n\u001b[0m\u001b[1;32m    700\u001b[0m                 \u001b[0;32melse\u001b[0m\u001b[0;34m:\u001b[0m\u001b[0;34m\u001b[0m\u001b[0m\n\u001b[1;32m    701\u001b[0m                     \u001b[0mself\u001b[0m\u001b[0;34m.\u001b[0m\u001b[0m_output\u001b[0m\u001b[0;34m.\u001b[0m\u001b[0mextend\u001b[0m\u001b[0;34m(\u001b[0m\u001b[0mjob\u001b[0m\u001b[0;34m.\u001b[0m\u001b[0mget\u001b[0m\u001b[0;34m(\u001b[0m\u001b[0;34m)\u001b[0m\u001b[0;34m)\u001b[0m\u001b[0;34m\u001b[0m\u001b[0m\n",
      "\u001b[0;32m/home/andrewblance/anaconda2/lib/python2.7/multiprocessing/pool.pyc\u001b[0m in \u001b[0;36mget\u001b[0;34m(self, timeout)\u001b[0m\n\u001b[1;32m    564\u001b[0m \u001b[0;34m\u001b[0m\u001b[0m\n\u001b[1;32m    565\u001b[0m     \u001b[0;32mdef\u001b[0m \u001b[0mget\u001b[0m\u001b[0;34m(\u001b[0m\u001b[0mself\u001b[0m\u001b[0;34m,\u001b[0m \u001b[0mtimeout\u001b[0m\u001b[0;34m=\u001b[0m\u001b[0mNone\u001b[0m\u001b[0;34m)\u001b[0m\u001b[0;34m:\u001b[0m\u001b[0;34m\u001b[0m\u001b[0m\n\u001b[0;32m--> 566\u001b[0;31m         \u001b[0mself\u001b[0m\u001b[0;34m.\u001b[0m\u001b[0mwait\u001b[0m\u001b[0;34m(\u001b[0m\u001b[0mtimeout\u001b[0m\u001b[0;34m)\u001b[0m\u001b[0;34m\u001b[0m\u001b[0m\n\u001b[0m\u001b[1;32m    567\u001b[0m         \u001b[0;32mif\u001b[0m \u001b[0;32mnot\u001b[0m \u001b[0mself\u001b[0m\u001b[0;34m.\u001b[0m\u001b[0m_ready\u001b[0m\u001b[0;34m:\u001b[0m\u001b[0;34m\u001b[0m\u001b[0m\n\u001b[1;32m    568\u001b[0m             \u001b[0;32mraise\u001b[0m \u001b[0mTimeoutError\u001b[0m\u001b[0;34m\u001b[0m\u001b[0m\n",
      "\u001b[0;32m/home/andrewblance/anaconda2/lib/python2.7/multiprocessing/pool.pyc\u001b[0m in \u001b[0;36mwait\u001b[0;34m(self, timeout)\u001b[0m\n\u001b[1;32m    559\u001b[0m         \u001b[0;32mtry\u001b[0m\u001b[0;34m:\u001b[0m\u001b[0;34m\u001b[0m\u001b[0m\n\u001b[1;32m    560\u001b[0m             \u001b[0;32mif\u001b[0m \u001b[0;32mnot\u001b[0m \u001b[0mself\u001b[0m\u001b[0;34m.\u001b[0m\u001b[0m_ready\u001b[0m\u001b[0;34m:\u001b[0m\u001b[0;34m\u001b[0m\u001b[0m\n\u001b[0;32m--> 561\u001b[0;31m                 \u001b[0mself\u001b[0m\u001b[0;34m.\u001b[0m\u001b[0m_cond\u001b[0m\u001b[0;34m.\u001b[0m\u001b[0mwait\u001b[0m\u001b[0;34m(\u001b[0m\u001b[0mtimeout\u001b[0m\u001b[0;34m)\u001b[0m\u001b[0;34m\u001b[0m\u001b[0m\n\u001b[0m\u001b[1;32m    562\u001b[0m         \u001b[0;32mfinally\u001b[0m\u001b[0;34m:\u001b[0m\u001b[0;34m\u001b[0m\u001b[0m\n\u001b[1;32m    563\u001b[0m             \u001b[0mself\u001b[0m\u001b[0;34m.\u001b[0m\u001b[0m_cond\u001b[0m\u001b[0;34m.\u001b[0m\u001b[0mrelease\u001b[0m\u001b[0;34m(\u001b[0m\u001b[0;34m)\u001b[0m\u001b[0;34m\u001b[0m\u001b[0m\n",
      "\u001b[0;32m/home/andrewblance/anaconda2/lib/python2.7/threading.pyc\u001b[0m in \u001b[0;36mwait\u001b[0;34m(self, timeout)\u001b[0m\n\u001b[1;32m    338\u001b[0m         \u001b[0;32mtry\u001b[0m\u001b[0;34m:\u001b[0m    \u001b[0;31m# restore state no matter what (e.g., KeyboardInterrupt)\u001b[0m\u001b[0;34m\u001b[0m\u001b[0m\n\u001b[1;32m    339\u001b[0m             \u001b[0;32mif\u001b[0m \u001b[0mtimeout\u001b[0m \u001b[0;32mis\u001b[0m \u001b[0mNone\u001b[0m\u001b[0;34m:\u001b[0m\u001b[0;34m\u001b[0m\u001b[0m\n\u001b[0;32m--> 340\u001b[0;31m                 \u001b[0mwaiter\u001b[0m\u001b[0;34m.\u001b[0m\u001b[0macquire\u001b[0m\u001b[0;34m(\u001b[0m\u001b[0;34m)\u001b[0m\u001b[0;34m\u001b[0m\u001b[0m\n\u001b[0m\u001b[1;32m    341\u001b[0m                 \u001b[0;32mif\u001b[0m \u001b[0m__debug__\u001b[0m\u001b[0;34m:\u001b[0m\u001b[0;34m\u001b[0m\u001b[0m\n\u001b[1;32m    342\u001b[0m                     \u001b[0mself\u001b[0m\u001b[0;34m.\u001b[0m\u001b[0m_note\u001b[0m\u001b[0;34m(\u001b[0m\u001b[0;34m\"%s.wait(): got it\"\u001b[0m\u001b[0;34m,\u001b[0m \u001b[0mself\u001b[0m\u001b[0;34m)\u001b[0m\u001b[0;34m\u001b[0m\u001b[0m\n",
      "\u001b[0;31mKeyboardInterrupt\u001b[0m: "
     ]
    }
   ],
   "source": [
    "from sklearn.model_selection import GridSearchCV, cross_val_score\n",
    "Cs = np.logspace(-1, 3, 20)\n",
    "clf = GridSearchCV(estimator=svc, param_grid=dict(C=Cs), n_jobs=-1)\n",
    "\n",
    "clf.fit(inspire_train[inputs], inspire_train['Result']) \n",
    "\n",
    "print clf.best_score_ \n",
    "print clf.best_estimator_.C  "
   ]
  },
  {
   "cell_type": "markdown",
   "metadata": {},
   "source": [
    "Confusion Matrix"
   ]
  },
  {
   "cell_type": "code",
   "execution_count": 53,
   "metadata": {},
   "outputs": [
    {
     "name": "stdout",
     "output_type": "stream",
     "text": [
      "0.911400567449\n",
      "Normalized confusion matrix\n",
      "[[ 0.98  0.02  0.01]\n",
      " [ 0.45  0.45  0.1 ]\n",
      " [ 0.08  0.06  0.85]]\n"
     ]
    },
    {
     "data": {
      "image/png": "[encoded data removed]",
      "text/plain": [
       "<matplotlib.figure.Figure at 0x1a29cb9e50>"
      ]
     },
     "metadata": {},
     "output_type": "display_data"
    }
   ],
   "source": [
    "class_names = [\"Rejected\", \"Non-Core\", \"Core\"]\n",
    "\n",
    "X_test = inspire_val[inputs]\n",
    "y_test = inspire_val['Result']\n",
    "\n",
    "# Run classifier, using a model that is too regularized (C too low) to see\n",
    "# the impact on the results\n",
    "# classifier = svm.SVC(decision_function_shape='ovo', C=clf.best_estimator_.C)\n",
    "\n",
    "#classifier = svm.SVC(decision_function_shape='ovo', class_weight='balanced', C=1)\n",
    "y_pred = svc.predict(X_test)\n",
    "print SVC.score(X_test, y_test)\n",
    "\n",
    "def plot_confusion_matrix(cm, classes,\n",
    "                          normalize=False,\n",
    "                          title='Confusion matrix',\n",
    "                          cmap=plt.cm.Blues):\n",
    "    \"\"\"\n",
    "    This function prints and plots the confusion matrix.\n",
    "    Normalization can be applied by setting `normalize=True`.\n",
    "    \"\"\"\n",
    "    if normalize:\n",
    "        cm = cm.astype('float') / cm.sum(axis=1)[:, np.newaxis]\n",
    "        print(\"Normalized confusion matrix\")\n",
    "    else:\n",
    "        print('Confusion matrix, without normalization')\n",
    "\n",
    "    print(cm)\n",
    "\n",
    "    plt.imshow(cm, interpolation='nearest', cmap=cmap)\n",
    "    plt.title(title)\n",
    "    plt.colorbar()\n",
    "    tick_marks = np.arange(len(classes))\n",
    "    plt.xticks(tick_marks, classes, rotation=45)\n",
    "    plt.yticks(tick_marks, classes)\n",
    "\n",
    "    fmt = '.2f' if normalize else 'd'\n",
    "    thresh = cm.max() / 2.\n",
    "    for i, j in itertools.product(range(cm.shape[0]), range(cm.shape[1])):\n",
    "        plt.text(j, i, format(cm[i, j], fmt),\n",
    "                 horizontalalignment=\"center\",\n",
    "                 color=\"white\" if cm[i, j] > thresh else \"black\")\n",
    "\n",
    "    plt.tight_layout()\n",
    "    plt.ylabel('True label')\n",
    "    plt.xlabel('Predicted label')\n",
    "\n",
    "# Compute confusion matrix\n",
    "cnf_matrix = confusion_matrix(y_test, y_pred)\n",
    "np.set_printoptions(precision=2)\n",
    "\n",
    "# Plot normalized confusion matrix\n",
    "plt.figure()\n",
    "plot_confusion_matrix(cnf_matrix, classes=class_names, normalize=True,\n",
    "                      title='Normalized confusion matrix')\n",
    "\n",
    "plt.show()"
   ]
  },
  {
   "cell_type": "markdown",
   "metadata": {},
   "source": [
    "Look for wrongly labelled Non-core things"
   ]
  },
  {
   "cell_type": "code",
   "execution_count": 226,
   "metadata": {},
   "outputs": [
    {
     "name": "stdout",
     "output_type": "stream",
     "text": [
      "(7754,)\n"
     ]
    }
   ],
   "source": [
    "print y_pred.shape\n",
    "\n",
    "y_pred.reshape(7754,1)\n",
    "inspire_val['y_pred'] = y_pred\n",
    "\n",
    "A1 = inspire_val.loc[(inspire_val['Result'] ==1) ]   #truly non-core\n",
    "wrong_NC = A1.loc[(A1['y_pred'] == 0)]               #predicts Rejected"
   ]
  },
  {
   "cell_type": "code",
   "execution_count": 227,
   "metadata": {},
   "outputs": [
    {
     "name": "stdout",
     "output_type": "stream",
     "text": [
      "[ 0.97  0.02  0.01]\n"
     ]
    }
   ],
   "source": [
    "print class_probabilities[7704]"
   ]
  },
  {
   "cell_type": "code",
   "execution_count": 228,
   "metadata": {},
   "outputs": [
    {
     "data": {
      "text/plain": [
       "0      Gromov-Witten/Pairs correspondence for the qui...\n",
       "1      A note on proper affine symmetry in Kantowski-...\n",
       "2      Gauged Hamiltonian Floer homology I: definitio...\n",
       "3      Floer Field Philosophy Floer field theory is a...\n",
       "4      On the stable Conley index in Hilbert spaces I...\n",
       "5      PALS investigations of free volumes thermal ex...\n",
       "6      40 years of the Nobel prize in physics: then a...\n",
       "7      Detection of phase transition in generalized P...\n",
       "8      Exact phase space matching for staging plasma ...\n",
       "9      Curvature of fluctuation geometry and its impl...\n",
       "10     The X-ray luminosity function of low mass X-ra...\n",
       "11     Solvability and nilpotency for algebraic super...\n",
       "12     Finite-order correlation length for 4-dimensio...\n",
       "13     Half-quantized Non-Abelian Vortices in Neutron...\n",
       "14     Quantum simulation of exotic PT-invariant topo...\n",
       "15     Effects of anisotropic thermal conduction on w...\n",
       "16     Discovery of a Highly Polarized Optical Microf...\n",
       "17     Planetary nebulae: abundances and abundance gr...\n",
       "18     Spin exchange interaction with tunable range b...\n",
       "19     Wavefunction collapse through backaction of co...\n",
       "20     Description of resonant states in the shell mo...\n",
       "21     Quantifying Bar Strength: Morphology Meets Met...\n",
       "22     Misconception Regarding Conventional Coupling ...\n",
       "23     Searching for FUV line emission from $10^7$ K ...\n",
       "24     The Origin and Evolution of the Galaxy Mass-Me...\n",
       "25     Crossover temperature of the spin-1/2 XXZ chai...\n",
       "26     Bona fide interaction-driven topological phase...\n",
       "27     Electric dipole polarizability: from few- to m...\n",
       "28     Four five-parametric and five four-parametric ...\n",
       "29     Accuracy requirements to test the applicabilit...\n",
       "                             ...                        \n",
       "282    Disentangling redshift-space distortions and n...\n",
       "283    Topological Kondo Insulators This article revi...\n",
       "284    Very Cold Gas and Dark Matter We have recently...\n",
       "285    Transport across a system with three p-wave su...\n",
       "286    Decay dynamics of the unbound $^{25}$O and $^{...\n",
       "287    A unidirectional invisible PT-symmetric comple...\n",
       "288    Probing surface distributions of $\\alpha$ clus...\n",
       "289    Direct Evidence of Octupole Deformation in Neu...\n",
       "290    1RXS J180408.9-342058: an ultra compact X-ray ...\n",
       "291    Frankel Conjecture and Sasaki geometry We clas...\n",
       "292    Equilibration, thermalisation, and the emergen...\n",
       "293    Bethe's Quantum Numbers And Rigged Configurati...\n",
       "294    A Direct Linkage Between AGN Outflows in The N...\n",
       "295    The Stability of the Vacuum Polarization Surro...\n",
       "296    Spectral analysis of the XMM-Newton data of GX...\n",
       "297    Structures in compressible magnetoconvection a...\n",
       "298    A New Methodology for Generalizing Unweighted ...\n",
       "299    NIBLES: an HI census of local SDSS galaxies NI...\n",
       "300    Population Synthesis and the Diagnostics of Hi...\n",
       "301    Linear stability of the Skyrmion We give a rig...\n",
       "302    Willingness to pay for basic research: a conti...\n",
       "303    Clustering properties and halo masses for cent...\n",
       "304    Pseudosingularity in the eigenvalue integral e...\n",
       "305    Infrared extrapolations of quadrupole moments ...\n",
       "306    3-D SPH Simulations of Radiatively Cooling Mag...\n",
       "307    On the structure of tidally-disrupted stellar ...\n",
       "308    On the Chern-Gauss-Bonnet Theorem and Conforma...\n",
       "309    The environmental dependence of the stellar ma...\n",
       "310    Experimental testbed for seawater channel char...\n",
       "311    Quantum field theory treatment of magnetic eff...\n",
       "Name: Text, Length: 312, dtype: object"
      ]
     },
     "execution_count": 228,
     "metadata": {},
     "output_type": "execute_result"
    }
   ],
   "source": [
    "col = ['Text', 'Result', 'y_pred']\n",
    "wrong_NC = wrong_NC[col]\n",
    "wrong_NC.reset_index(drop=True)['Text']    \n",
    "#wrong_NC['Text'][26]"
   ]
  },
  {
   "cell_type": "code",
   "execution_count": 184,
   "metadata": {},
   "outputs": [
    {
     "name": "stdout",
     "output_type": "stream",
     "text": [
      "[u'zsun', u'minute', u'mk', u'mjy', u'mj', u'cme', u'mix', u'mistake', u'misleading', u'misconception', u'mirrors', u'miras', u'mira', u'minutes', u'minor', u'mn', u'cns', u'cnss', u'minimize', u'minimality', u'co2', u'minihalo', u'miniaturized', u'mineralogy', u'min', u'mimic', u'milne', u'millions', u'cmb', u'clutter', u'millimeters', u'climatologist', u'month', u'clean', u'monoxide', u'monotone', u'monopnictides', u'monogamy', u'monochromatic', u'monitored', u'clearer', u'clifford', u'climate', u'climatological', u'molaro', u'mobius', u'cline', u'clock', u'modifcation', u'clockwise', u'moderately', u'closer', u'closure', u'cloud', u'modelled', u'clues', u'modal', u'mock', u'millimetre', u'millimeter', u'probes', u'mentioned', u'mets', u'cobe', u'methane', u'codata', u'coexist', u'metallic', u'messages', u'cohomological', u'merged', u'mere', u'mercury', u'mercator', u'mention', u'mf', u'coincidence', u'member', u'mele', u'meissner', u'meets', u'meet', u'coincident', u'medication', u'medical', u'coincides', u'colder', u'collaboration', u'mexico', u'mhalo', u'milli', u'coarse', u'miller', u'coactions', u'milestone', u'mildly', u'coacts', u'midshell', u'coagulate', u'microwave', u'microvariability', u'microtesla', u'microscopy', u'coalescing', u'microring', u'michelson', u'microquasar', u'microphones', u'microphone', u'microns', u'micron', u'microlocal', u'microkelvin', u'microflare', u'microcalorimeter', u'microbunching', u'microampere', u'michigan', u'months', u'morgan', u'mori', u'ciated', u'chiodo', u'chirality', u'chirp', u'nearest', u'chongchitmate', u'choosing', u'chromospheric', u'nbp', u'nbas', u'navigation', u'navier', u'navarro', u'native', u'negatives', u'national', u'nanothings', u'nanosquids', u'nanosquid', u'nanosensor', u'nanoscience', u'nanoscale', u'nanoribbon', u'nanoparticles', u'nanoparticle', u'nanonetworks', u'nanocones', u'chico', u'chi2', u'moriya', u'cheeger', u'nice', u'nibles', u'ngf', u'ngc6528', u'ngc4696', u'ng', u'nextgen5', u'nextgen', u'characterizes', u'newer', u'neveu', u'checked', u'neutrino', u'chi', u'neutrals', u'chemistry', u'neurtron', u'neuroscience', u'neural', u'chemodynamical', u'cherenkov', u'net', u'neptune', u'nep', u'nema', u'neighbour', u'nanocone', u'nano', u'nancay', u'moved', u'multidimensional', u'multicomponent', u'circumvent', u'mu_', u'citet', u'civita', u'mstar', u'msl', u'cl', u'mrk421', u'claimed', u'movement', u'claims', u'named', u'moutard', u'mounted', u'mottelson', u'motor', u'motivations', u'clarified', u'clash', u'classified', u'mosfire', u'moscow', u'mosaics', u'morton', u'multifractal', u'multihole', u'multilevel', u'multinary', u'nakano', u'nakamura', u'nabla', u'n_tof', u'n_', u'mzr', u'mystery', u'mysterious', u'myriad', u'my', u'mw', u'circularly', u'mutual', u'circulating', u'mumford', u'multistate', u'multiscale', u'multipolar', u'multipliers', u'multiplications', u'multiplets', u'multiplet', u'multiples', u'circum', u'multiparticle', u'mechanically', u'collapsed', u'collapses', u'conductances', u'liminf', u'limb', u'likewise', u'condensate', u'lighting', u'lightcurve', u'condensates', u'ligaments', u'condensation', u'lies', u'conditionally', u'liberated', u'lhc', u'limitations', u'lgrbs', u'lfs', u'levi', u'conductive', u'lett', u'conductivities', u'lesser', u'conductors', u'cone', u'lensing', u'configuratiion', u'legendrian', u'limitation', u'concluded', u'comprised', u'concave', u'locations', u'comptonization', u'locate', u'localization', u'locality', u'localised', u'loads', u'loading', u'ln', u'lmxb', u'lmc', u'computer', u'concentrated', u'concise', u'lithography', u'lithographically', u'lithium', u'conception', u'conceptual', u'linkage', u'concerned', u'linearity', u'linearised', u'concerns', u'lindblad', u'lincoln', u'legacy', u'lefschetz', u'conflict', u'lagrange', u'connecting', u'largeness', u'connectivities', u'connectivity', u'lares', u'laptop', u'connects', u'langevian', u'lamppost', u'lambda_i', u'cons', u'laguerre', u'lag', u'leave', u'ladders', u'ladder', u'ladar', u'lacertae', u'label', u'lab', u'la', u'kurucz', u'kumar', u'ksec', u'krylov', u'kroupa', u'larmor', u'larsen', u'lasalle', u'connect', u'confluent', u'learnt', u'learned', u'conform', u'leanings', u'leaning', u'leakage', u'conformally', u'confronting', u'le', u'lda', u'confused', u'lc', u'lbgs', u'layering', u'lax', u'confusions', u'congruences', u'conjectural', u'conjectured', u'conjectures', u'conjugation', u'latent', u'conley', u'lasercom', u'locking', u'logarithmical', u'colleagues', u'manufacture', u'massless', u'comm', u'commenced', u'comment', u'masers', u'maser', u'martir', u'martins', u'markovian', u'commercial', u'march', u'manybody', u'mantle', u'matches', u'commutative', u'manned', u'manipulating', u'commutativity', u'commute', u'manifests', u'manifestly', u'manifested', u'manifest', u'mandrel', u'manage', u'man', u'coming', u'combustion', u'logistic', u'colloidal', u'collectively', u'collector', u'measurable', u'collide', u'meaningful', u'collider', u'collimated', u'mdss', u'mdscc', u'mcm', u'mbox', u'mbh', u'maximize', u'combines', u'max', u'colored', u'colors', u'mathfrak', u'mathematics', u'mathematically', u'columns', u'mathbf', u'combinatorics', u'math', u'combine', u'materialized', u'malfunctions', u'commuting', u'compactification', u'ls', u'm2fs', u'm15', u'm1', u'lyrae', u'lunisolar', u'lunar', u'composites', u'compositionally', u'ltm', u'compositions', u'lsst', u'lsi', u'lrgs', u'comparative', u'lowered', u'compounds', u'loudspeaker', u'compress', u'loops', u'looping', u'compressing', u'look', u'compression', u'longitude', u'compressional', u'lognormal', u'm31', u'm87', u'm_dyn', u'm_r', u'maintenance', u'compensate', u'compensates', u'competing', u'magnification', u'magnets', u'magnetron', u'magnetospheric', u'magneton', u'magnetometry', u'magnetometers', u'compile', u'magnetogenesis', u'magnetoconvection', u'complement', u'completeness', u'magnetically', u'magnetars', u'magellan', u'madrid', u'complexities', u'macroscale', u'm_vir', u'm_star', u'm_r100', u'nicely', u'nickel', u'nights', u'photodetectors', u'bosons', u'boss', u'bottleneck', u'photosphere', u'bottom', u'photonics', u'boundaries', u'boundedness', u'photometrically', u'photoemission', u'photoelectron', u'photodiode', u'photodetection', u'pice', u'photo', u'phonons', u'phonon', u'phoenicis', u'philosophy', u'boxtimes', u'boxtimes_', u'phaseshifting', u'brain', u'phase3', u'phantom', u'pg1159', u'physicists', u'pico', u'bonnet', u'pizagno', u'planned', u'boost', u'planetesimals', u'boosted', u'borderline', u'bordism', u'plan', u'plaguing', u'placed', u'pl', u'pks2155', u'pks', u'pixel', u'picoammeters', u'pipes', u'pipe', u'pinpoint', u'pinned', u'pineau', u'pimsner', u'pilot', u'piezoelectric', u'pieces', u'piece', u'pictures', u'picometer', u'pervade', u'perturbative', u'brans', u'patches', u'brill', u'pds', u'pdm', u'pd', u'pbeat', u'payload', u'pay', u'paves', u'bringing', u'brings', u'broadcast', u'patchy', u'broader', u'perturb', u'passing', u'passes', u'pas', u'parts', u'partly', u'partitioning', u'partition', u'broadly', u'brownian', u'bubbles', u'buckets', u'parsing', u'peaked', u'pedagogical', u'pedro', u'peg', u'pertinent', u'persuasiveness', u'person', u'persisting', u'permutational', u'permittivity', u'permittivities', u'periphery', u'peripheral', u'periodogram', u'periodical', u'breathtaking', u'perihelia', u'perhaps', u'bred', u'bremsstrahlung', u'performances', u'bridges', u'percolation', u'percent', u'penning', u'penetrate', u'penchants', u'penchant', u'pegasi', u'plants', u'plasmas', u'parkinsonian', u'biochemical', u'binned', u'presentation', u'binom', u'binomial', u'preparation', u'preliminary', u'prefers', u'preferences', u'predominantly', u'predicts', u'bins', u'bio', u'biofet', u'presently', u'precursors', u'biofets', u'precisely', u'biological', u'precipitation', u'precessing', u'preceding', u'biology', u'practice', u'practically', u'practicality', u'biomedical', u'presenting', u'preservation', u'plasmoid', u'principally', u'biases', u'biermann', u'probable', u'bifurcate', u'bifurcation', u'probabilistic', u'prize', u'pristine', u'priors', u'priori', u'bigg', u'bigger', u'prince', u'preserved', u'bijectively', u'primeval', u'bilayer', u'primaries', u'primal', u'bimodal', u'bimodule', u'preventing', u'prevent', u'prevailing', u'presumably', u'pressing', u'pp', u'powering', u'biosensors', u'pm0', u'polarised', u'polarimetry', u'polarimetric', u'poisson', u'poisoning', u'bolometers', u'bolometric', u'pocket', u'pne', u'pm3', u'pm2', u'pm1', u'plus', u'powered', u'plotting', u'plong', u'plexiglas', u'bond', u'playing', u'bonifacio', u'plausibility', u'platform', u'plated', u'plateaus', u'plateau', u'plasmons', u'polarizable', u'board', u'pollutants', u'poloidal', u'birefringence', u'birth', u'bisectional', u'bl', u'blackbody', u'blackburne', u'blackout', u'possesses', u'blackouts', u'positronium', u'positron', u'positively', u'posed', u'blend', u'porous', u'blinking', u'populating', u'popular', u'bloch', u'blowup', u'poole', u'polystyrene', u'polynomially', u'blr', u'polycyclic', u'parsimonious', u'parkinson', u'nilpotency', u'o_x', u'ccr', u'ccsne', u'observatories', u'cdcc', u'observationally', u'obscuring', u'obscured', u'obscuration', u'celestial', u'cellular', u'obey', u'o_y', u'o_', u'ccba', u'nv', u'cemp', u'numeric', u'centrals', u'num', u'null', u'centred', u'nucleosynthetic', u'nucleosynthesis', u'nucleons', u'centres', u'centrifugal', u'observers', u'obstacle', u'olya', u'catches', u'ol', u'oiii', u'ohio', u'oh2015', u'oh2011b', u'oh2011a', u'ogorodnikov', u'ogle', u'casimir', u'offsets', u'catalogued', u'official', u'categorical', u'cayley', u'causal', u'odinger', u'causality', u'octupole', u'ocra', u'oceanic', u'cause', u'occurrences', u'causing', u'cavitation', u'occupation', u'obviously', u'nu2', u'nu1', u'nu', u'noetherian', u'nonexistence', u'nonevaporable', u'nonetheless', u'nonequilibrium', u'none', u'noncontacting', u'noncompact', u'noncommutativity', u'chaos', u'chaotic', u'nominally', u'char', u'node', u'ntt', u'nobody', u'nobel', u'nn', u'nmr', u'nm', u'nlsm', u'nls', u'nlr', u'nl', u'nixon', u'niobium', u'ninety', u'nonfading', u'nonlinearity', u'nonnegative', u'nonrestricted', u'century', u'nrt', u'nrao', u'np', u'nozzle', u'cepheid', u'cepheids', u'notoriety', u'cern', u'ch', u'noteworthy', u'challenges', u'notable', u'chamber', u'nosing', u'northwestern', u'northwest', u'northeast', u'normally', u'normalized', u'chance', u'norm', u'chandrasekhar', u'changed', u'nonsingular', u'oldest', u'omega_', u'parker', u'overcomes', u'p2', u'p1', u'bunching', u'own', u'oviii', u'ovii', u'overshoot', u'overpredict', u'overlaps', u'overlapping', u'overestimated', u'overcompleteness', u'overcome', u'p_s', u'buoyant', u'ouyed', u'outward', u'outstanding', u'outskirts', u'buried', u'burn', u'outperform', u'outlined', u'outline', u'bursting', u'outermost', u'p_b', u'pa', u'omnipresence', u'parabolic', u'budget', u'parent', u'parametrized', u'parametrize', u'parametrisation', u'buffer', u'build', u'parameterized', u'paramagnetic', u'paralleling', u'builds', u'paraboloidal', u'bulgeless', u'electromagnetism', u'pandharipande', u'pan2015a', u'pals', u'palomar', u'palm', u'palladium', u'bullet', u'pairings', u'paired', u'pairbreaking', u'pah', u'pagb', u'bursty', u'butterfly', u'ca', u'operated', u'optimally', u'camouflaged', u'campaigns', u'canarias', u'oplus', u'canary', u'operatorname', u'cancer', u'operative', u'operations', u'operational', u'candle', u'operate', u'others', u'opens', u'opening', u'opened', u'capability', u'oort', u'captured', u'carbonaceous', u'ongoing', u'cardinality', u'carefully', u'once', u'onboard', u'optimized', u'optimizing', u'orb', u'orbifold', u'ossbauer', u'osiris', u'oscilloscope', u'calculates', u'calculus', u'calibrate', u'oscillating', u'oscillates', u'orthonormal', u'origins', u'originating', u'originated', u'calibrated', u'calibrates', u'orifice', u'orientations', u'orientation', u'orientable', u'organizing', u'ordering', u'calibrations', u'calibrator', u'calorimeters', u'caltech', u'cam', u'conserve', u'kpairs', u'koi', u'fluids', u'folding', u'folded', u'dip', u'fokker', u'diphenyloxazole', u'dipoles', u'fock', u'fm', u'dipping', u'diproton', u'fluorescence', u'fluor', u'dips', u'dinger', u'directed', u'directional', u'directions', u'flip', u'flim', u'flexible', u'flexibility', u'flavor', u'flattening', u'flatten', u'dirty', u'disappear', u'foliage', u'dimerized', u'dias', u'formulations', u'fourteen', u'dichotomous', u'dicke', u'dictated', u'fossil', u'forward', u'forty', u'fortunately', u'fortran', u'forthcoming', u'forth', u'fornax', u'dictionary', u'dimerization', u'formulating', u'formulate', u'diesel', u'formfactors', u'former', u'differs', u'formations', u'formalisms', u'difficulty', u'digit', u'forests', u'dimensionality', u'disappears', u'flange', u'fixing', u'disfavors', u'fet', u'feshbach', u'ferromagnetism', u'ferromagnet', u'ferrofluids', u'fermionic', u'disease', u'disentangled', u'femtoampere', u'fels', u'fel', u'disentangling', u'disguises', u'disaster', u'disintegration', u'disorder', u'disparity', u'favoured', u'favors', u'favorable', u'fate', u'displaced', u'faraday', u'displacement', u'display', u'families', u'discusses', u'fewer', u'feyman', u'ff', u'disastrous', u'disciplines', u'discontinuity', u'firstly', u'firmly', u'firm', u'fire', u'firas', u'fir', u'finiteness', u'finds', u'discovering', u'discrepancy', u'discrepant', u'final', u'filters', u'filling', u'discriminant', u'filaments', u'filament', u'fifteen', u'discriminated', u'discrimination', u'discriminative', u'fibrations', u'fp', u'frac1', u'falls', u'descendents', u'geophysics', u'geophysical', u'derives', u'descended', u'geodesics', u'geodesically', u'geodesic', u'geo', u'genuine', u'genetic', u'descendent', u'generator', u'generates', u'derivatives', u'descriptions', u'desi', u'designing', u'generalizing', u'generalizes', u'despec', u'generalised', u'generalisations', u'destroy', u'ge0', u'destroying', u'gaussians', u'geostationary', u'geriatric', u'frac1j', u'gnfw', u'grained', u'delocalized', u'gradually', u'demonstrating', u'demonstration', u'gosia', u'goods', u'demonstrator', u'goldstone', u'gogny', u'goals', u'go', u'gluing', u'getters', u'glued', u'globally', u'depletion', u'gl', u'deposited', u'deposition', u'gilbert', u'derivate', u'derivations', u'ggmt', u'ggadt', u'gg', u'detached', u'gauged', u'gathered', u'frenk', u'ft', u'fs', u'frustrated', u'fruitful', u'fronts', u'di', u'fringes', u'friction', u'fresnel', u'frequently', u'diagnostics', u'diagonal', u'french', u'gated', u'diagonalizable', u'frankel', u'frameworks', u'diagonalization', u'frames', u'fragmentation', u'diameters', u'fractionation', u'fractionally', u'diamond', u'fractal', u'frac1k', u'fu', u'fubini', u'fukaya', u'fulfilled', u'detects', u'gaps', u'determinants', u'galileo', u'galex', u'deuterated', u'deuterium', u'galactocentric', u'deuteron', u'gain', u'gadget2', u'g_2', u'g_', u'fxs', u'fwhm', u'fw', u'deuterons', u'developments', u'develops', u'functor', u'devise', u'functionalized', u'devoted', u'dex', u'dft', u'familiar', u'displaying', u'grandcanonical', u'eating', u'erode', u'erl', u'ergodic', u'e3', u'erased', u'eras', u'earthquakes', u'equiv', u'equipment', u'east', u'eastern', u'easy', u'equally', u'err_', u'eccentricity', u'eqref', u'epsilon_', u'epsilon', u'eps', u'epoxy', u'eport', u'echo', u'epoch', u'episodic', u'episodes', u'episode', u'erosion', u'e2', u'eventual', u'dunkl', u'dsphs', u'dstorm', u'evaporation', u'evanescent', u'evaluations', u'evaluation', u'dt_', u'european', u'euclidean', u'etching', u'estimator', u'dumbbell', u'dwarves', u'ery', u'establishing', u'establishes', u'dynamos', u'est', u'essppi', u'dyson', u'essencially', u'dzyaloshinskii', u'eskridge', u'escude', u'escaping', u'esac', u'ephemeris', u'ep', u'eof', u'emccd', u'effort', u'en', u'efosc2', u'eigen', u'eigenfunctions', u'eigenstate', u'eigenstates', u'emph', u'eilenberg', u'emery', u'emerged', u'emd', u'ejections', u'envisioned', u'elaborate', u'else', u'elongated', u'elliptically', u'ell', u'eliminate', u'elevating', u'electrically', u'elemental', u'electro', u'electrostatics', u'electropolished', u'enclosing', u'encompass', u'encounter', u'encouraged', u'echoes', u'ecle', u'ecles', u'eclipses', u'entropies', u'entity', u'entering', u'ensures', u'ensuing', u'enrolled', u'edd', u'enormous', u'enjoy', u'enhancements', u'educational', u'engines', u'effected', u'engine', u'enforcement', u'effectiveness', u'energetics', u'endowed', u'endomorphisms', u'efficiently', u'encouraging', u'drug', u'everywhere', u'falcke', u'expresses', u'distorted', u'distortion', u'extern', u'extensively', u'distributed', u'disturbed', u'div', u'divergent', u'diverse', u'diversity', u'divided', u'division', u'express', u'extracted', u'exposures', u'expository', u'expose', u'dke', u'dl', u'explosions', u'dlro', u'exploratory', u'exploration', u'exploited', u'exploitation', u'dmrg', u'distinguished', u'extracting', u'drop', u'facilitate', u'displays', u'faintest', u'fainter', u'displaystyle', u'failure', u'factory', u'disrupt', u'factorized', u'disruptions', u'dissected', u'facilitating', u'facilitated', u'faces', u'extracts', u'dissipation', u'dissipationless', u'fabricating', u'fabricated', u'f_b', u'f5v', u'extrinsic', u'extremized', u'dissociation', u'distinction', u'extremal', u'extragalactic', u'dms', u'dn63cf', u'explanatory', u'examining', u'exclude', u'exciting', u'excite', u'drag', u'dragging', u'dragon', u'draine', u'exceptionally', u'exceptional', u'except', u'draining', u'dramatic', u'drastic', u'explaining', u'drastically', u'examination', u'draw', u'drawbacks', u'drawn', u'driver', u'evolutions', u'drivers', u'drives', u'evincing', u'evident', u'evidenced', u'excluding', u'exemplifies', u'exercises', u'dr', u'dnls', u'dodecagonal', u'expertise', u'experimetal', u'doesn', u'domains', u'dominate', u'experiencing', u'dominating', u'expensive', u'expense', u'dopa', u'dopped', u'dos', u'dot', u'doubts', u'exosat', u'exoplanets', u'exoplanet', u'downflow', u'downflows', u'downs', u'existed', u'downstream', u'exhibiting', u'gran', u'granular', u'ko', u'cornerstones', u'convincing', u'interfacial', u'cooldown', u'interdisciplinary', u'intercomparison', u'coqblin', u'cored', u'interact', u'cornell', u'corner', u'intended', u'cornerstone', u'corollary', u'convex', u'corona', u'corot', u'integrability', u'corotation', u'corrections', u'insufficient', u'instrumental', u'institutions', u'institutional', u'correlating', u'instants', u'instantons', u'interfering', u'interferometers', u'invalid', u'interrelationships', u'intuition', u'controllability', u'intra', u'intervening', u'intervalley', u'interval', u'intertwining', u'convectons', u'interspecies', u'intersections', u'intersection', u'intersect', u'interpreting', u'converting', u'convention', u'converged', u'interpolation', u'converging', u'interphases', u'interpenetrating', u'internet', u'conversions', u'intermittent', u'convert', u'interloper', u'interleaving', u'instanton', u'correspondence', u'inspiral', u'inequality', u'cosmospec', u'inflation', u'inflated', u'inferring', u'counsel', u'count', u'counter', u'infeld', u'infalling', u'inextendible', u'inertiality', u'inequivalence', u'inefficient', u'inspection', u'industrial', u'countries', u'induce', u'indra', u'individually', u'couple', u'indicative', u'indications', u'indication', u'couplings', u'indicated', u'course', u'influences', u'influencing', u'cosmos', u'informational', u'inspected', u'insignificant', u'insights', u'insight', u'correspondences', u'insensitive', u'insa', u'inputs', u'corroborated', u'inpop15a', u'inpainting', u'innovative', u'corrugated', u'injectors', u'injector', u'cos', u'injecting', u'cosine', u'cosmograil', u'cosmologically', u'inherent', u'cosmologies', u'cosmologists', u'infrastructures', u'informative', u'intuitive', u'contributes', u'independence', u'july', u'kaehler', u'constituent', u'k_ox', u'k3', u'k07', u'jy', u'justified', u'justification', u'constituted', u'jupiters', u'jupiter', u'jumps', u'jour', u'kaluza', u'jointly', u'join', u'johnson', u'jitters', u'jisp16', u'jia05', u'construed', u'construted', u'jarvis', u'jansky', u'james', u'jacoby', u'kagra', u'kantowski', u'contributed', u'consist', u'knows', u'conserved', u'considerable', u'knots', u'knot', u'knees', u'knee', u'kmh', u'considerations', u'kitaev', u'kislovodsk', u'considers', u'kiloparsecs', u'kapteyn', u'kiessling', u'kicks', u'kicked', u'khz', u'constantly', u'constellation', u'kept', u'ken', u'kelly', u'keep', u'keck', u'karma', u'jackiw', u'ja', u'j2000', u'continue', u'contemporary', u'contentious', u'contents', u'irradiance', u'iron', u'ircs', u'conti', u'contingent', u'ionised', u'ionisation', u'ionically', u'continuation', u'continuity', u'j180408', u'involve', u'invoking', u'invoke', u'investing', u'investigating', u'investigates', u'contracted', u'contraction', u'invertible', u'inverters', u'inverted', u'contrarily', u'is75', u'isb', u'island', u'isobaric', u'j1644', u'j1452', u'j095209', u'j0952', u'izydorek', u'iv', u'iue', u'iu', u'consumers', u'consumes', u'iteration', u'italy', u'consuming', u'consumption', u'contact', u'contained', u'zstar', u'isospin', u'isoscalar', u'isoperimetric', u'isolator', u'isolation', u'isolating', u'contaminating', u'isochrones', u'covalently', u'indefinite', u'graph', u'decomposability', u'her', u'helping', u'helped', u'decentralized', u'dechirper', u'decision', u'held', u'decline', u'heii', u'decoherence', u'hei', u'heegaard', u'heavier', u'decade', u'decompositions', u'deconfined', u'health', u'decontaminated', u'hd100546', u'hbox', u'hbeta', u'haystack', u'havoc', u'decreases', u'hausdorff', u'hauschildt', u'hereafter', u'hermtian', u'hopf', u'historical', u'homogenous', u'homogeneity', u'holonomy', u'holomorphic', u'holmberg', u'hollow', u'dav73', u'dav81', u'hodge', u'hmxbs', u'hler', u'dd', u'hip', u'hessian', u'hints', u'deals', u'highlight', u'debate', u'hf', u'hexagonal', u'hexaboride', u'heuristic', u'heun', u'heterostructures', u'heterostructure', u'heterogeneous', u'harvest', u'hartree', u'harmonics', u'grids', u'guide', u'guess', u'gtc', u'deform', u'grus', u'gru', u'grs', u'deformable', u'grow', u'grouped', u'grounds', u'gross', u'degeneration', u'deduce', u'gretina', u'green', u'degradations', u'grc', u'degreecelsius', u'gravitomagnetism', u'gravitomagnetic']\n"
     ]
    }
   ],
   "source": [
    "# tokenise the words, try find the most \"non-core-y\" ones\n",
    "from sklearn.feature_extraction.text import TfidfVectorizer\n",
    "import numpy as np\n",
    "\n",
    "lectures = wrong_NC['Text']\n",
    "vectorizer = TfidfVectorizer()\n",
    "X = vectorizer.fit_transform(lectures)\n",
    "\n",
    "indices = np.argsort(vectorizer.idf_)[::-1]\n",
    "features = vectorizer.get_feature_names()\n",
    "\n",
    "top_n = 1750\n",
    "top_features = [features[i] for i in indices[:top_n]]\n",
    "print top_features"
   ]
  },
  {
   "cell_type": "code",
   "execution_count": 217,
   "metadata": {},
   "outputs": [
    {
     "data": {
      "text/plain": [
       "['look']"
      ]
     },
     "execution_count": 217,
     "metadata": {},
     "output_type": "execute_result"
    }
   ],
   "source": [
    "# words that are in new dictionary and in a specific text\n",
    "list( set(top_features).intersection( set(wrong_NC.reset_index(drop=True)['Text'][123].split(' ')) ) )"
   ]
  },
  {
   "cell_type": "code",
   "execution_count": 190,
   "metadata": {},
   "outputs": [],
   "source": [
    "#load up the original dictionary\n",
    "keysfile = np.loadtxt(\"KeyWords.csv\", dtype=\"str\") # load the keywords.\n",
    "keywords = [word.lower() for word in keysfile]     # lowercase them all."
   ]
  },
  {
   "cell_type": "code",
   "execution_count": 192,
   "metadata": {},
   "outputs": [
    {
     "data": {
      "text/plain": [
       "77"
      ]
     },
     "execution_count": 192,
     "metadata": {},
     "output_type": "execute_result"
    }
   ],
   "source": [
    "#how many words in original dictionary and \"new dictionary\"\n",
    "len(list( set(top_features).intersection( set(keywords)) ) )"
   ]
  },
  {
   "cell_type": "code",
   "execution_count": null,
   "metadata": {},
   "outputs": [],
   "source": []
  }
 ],
 "metadata": {
  "kernelspec": {
   "display_name": "Python 2",
   "language": "python",
   "name": "python2"
  },
  "language_info": {
   "codemirror_mode": {
    "name": "ipython",
    "version": 2
   },
   "file_extension": ".py",
   "mimetype": "text/x-python",
   "name": "python",
   "nbconvert_exporter": "python",
   "pygments_lexer": "ipython2",
   "version": "2.7.14"
  }
 },
 "nbformat": 4,
 "nbformat_minor": 2
}
