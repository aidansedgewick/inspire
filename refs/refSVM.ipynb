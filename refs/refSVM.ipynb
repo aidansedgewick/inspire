{
 "cells": [
  {
   "cell_type": "code",
   "execution_count": 1,
   "metadata": {},
   "outputs": [
    {
     "name": "stderr",
     "output_type": "stream",
     "text": [
      "/home/andrewblance/anaconda2/lib/python2.7/site-packages/h5py/__init__.py:36: FutureWarning: Conversion of the second argument of issubdtype from `float` to `np.floating` is deprecated. In future, it will be treated as `np.float64 == np.dtype(float).type`.\n",
      "  from ._conv import register_converters as _register_converters\n",
      "Using TensorFlow backend.\n"
     ]
    }
   ],
   "source": [
    "import numpy as np\n",
    "from scipy import sparse\n",
    "from sklearn import svm\n",
    "import pandas as pd\n",
    "import pickle\n",
    "from keras.layers import Dense\n",
    "from keras.models import Sequential\n",
    "import keras\n",
    "from collections import Counter\n",
    "import matplotlib.pyplot as plt\n",
    "from sklearn.metrics import confusion_matrix\n",
    "import itertools\n",
    "from keras.utils import to_categorical\n",
    "from sklearn.metrics import cohen_kappa_score\n",
    "from sklearn.model_selection import KFold, cross_val_score\n",
    "\n",
    "from keras.models import Sequential\n",
    "\n",
    "from keras.models import Sequential\n",
    "from keras.layers import Embedding, Dense, Flatten\n",
    "from keras.models import Sequential\n",
    "from keras.preprocessing.sequence import pad_sequences\n",
    "from keras.preprocessing.text import Tokenizer\n",
    "from keras.utils import to_categorical"
   ]
  },
  {
   "cell_type": "code",
   "execution_count": 2,
   "metadata": {},
   "outputs": [
    {
     "data": {
      "text/html": [
       "<div>\n",
       "<style scoped>\n",
       "    .dataframe tbody tr th:only-of-type {\n",
       "        vertical-align: middle;\n",
       "    }\n",
       "\n",
       "    .dataframe tbody tr th {\n",
       "        vertical-align: top;\n",
       "    }\n",
       "\n",
       "    .dataframe thead th {\n",
       "        text-align: right;\n",
       "    }\n",
       "</style>\n",
       "<table border=\"1\" class=\"dataframe\">\n",
       "  <thead>\n",
       "    <tr style=\"text-align: right;\">\n",
       "      <th></th>\n",
       "      <th>Text</th>\n",
       "      <th>Title-sing</th>\n",
       "      <th>Title-bi</th>\n",
       "      <th>Title-tri</th>\n",
       "      <th>Title-quad</th>\n",
       "      <th>Abs-sing</th>\n",
       "      <th>Abs-bi</th>\n",
       "      <th>Abs-tri</th>\n",
       "      <th>Abs-quad</th>\n",
       "      <th>core refs</th>\n",
       "      <th>non-core refs</th>\n",
       "      <th>Result</th>\n",
       "    </tr>\n",
       "  </thead>\n",
       "  <tbody>\n",
       "    <tr>\n",
       "      <th>0</th>\n",
       "      <td>Mott Quantum Criticality in the Anisotropic 2D...</td>\n",
       "      <td>0</td>\n",
       "      <td>0</td>\n",
       "      <td>0</td>\n",
       "      <td>0</td>\n",
       "      <td>9</td>\n",
       "      <td>0</td>\n",
       "      <td>0</td>\n",
       "      <td>0</td>\n",
       "      <td>0.00000</td>\n",
       "      <td>0.50000</td>\n",
       "      <td>0</td>\n",
       "    </tr>\n",
       "    <tr>\n",
       "      <th>1</th>\n",
       "      <td>Balanced Reed-Solomon Codes We consider the pr...</td>\n",
       "      <td>0</td>\n",
       "      <td>0</td>\n",
       "      <td>0</td>\n",
       "      <td>0</td>\n",
       "      <td>11</td>\n",
       "      <td>1</td>\n",
       "      <td>0</td>\n",
       "      <td>0</td>\n",
       "      <td>0.00000</td>\n",
       "      <td>0.00000</td>\n",
       "      <td>0</td>\n",
       "    </tr>\n",
       "    <tr>\n",
       "      <th>2</th>\n",
       "      <td>Fermion Dipole Moment and Holography In the ba...</td>\n",
       "      <td>0</td>\n",
       "      <td>0</td>\n",
       "      <td>0</td>\n",
       "      <td>0</td>\n",
       "      <td>9</td>\n",
       "      <td>2</td>\n",
       "      <td>0</td>\n",
       "      <td>0</td>\n",
       "      <td>0.93617</td>\n",
       "      <td>0.00000</td>\n",
       "      <td>2</td>\n",
       "    </tr>\n",
       "    <tr>\n",
       "      <th>3</th>\n",
       "      <td>Quantization conditions and functional equatio...</td>\n",
       "      <td>0</td>\n",
       "      <td>0</td>\n",
       "      <td>0</td>\n",
       "      <td>0</td>\n",
       "      <td>9</td>\n",
       "      <td>1</td>\n",
       "      <td>0</td>\n",
       "      <td>0</td>\n",
       "      <td>0.92500</td>\n",
       "      <td>0.02500</td>\n",
       "      <td>2</td>\n",
       "    </tr>\n",
       "    <tr>\n",
       "      <th>4</th>\n",
       "      <td>Resonances in the continuum, field induced non...</td>\n",
       "      <td>2</td>\n",
       "      <td>0</td>\n",
       "      <td>0</td>\n",
       "      <td>0</td>\n",
       "      <td>6</td>\n",
       "      <td>0</td>\n",
       "      <td>0</td>\n",
       "      <td>0</td>\n",
       "      <td>0.00000</td>\n",
       "      <td>0.04386</td>\n",
       "      <td>0</td>\n",
       "    </tr>\n",
       "  </tbody>\n",
       "</table>\n",
       "</div>"
      ],
      "text/plain": [
       "                                                Text Title-sing Title-bi  \\\n",
       "0  Mott Quantum Criticality in the Anisotropic 2D...          0        0   \n",
       "1  Balanced Reed-Solomon Codes We consider the pr...          0        0   \n",
       "2  Fermion Dipole Moment and Holography In the ba...          0        0   \n",
       "3  Quantization conditions and functional equatio...          0        0   \n",
       "4  Resonances in the continuum, field induced non...          2        0   \n",
       "\n",
       "  Title-tri Title-quad Abs-sing Abs-bi Abs-tri Abs-quad  core refs  \\\n",
       "0         0          0        9      0       0        0    0.00000   \n",
       "1         0          0       11      1       0        0    0.00000   \n",
       "2         0          0        9      2       0        0    0.93617   \n",
       "3         0          0        9      1       0        0    0.92500   \n",
       "4         0          0        6      0       0        0    0.00000   \n",
       "\n",
       "   non-core refs  Result  \n",
       "0        0.50000       0  \n",
       "1        0.00000       0  \n",
       "2        0.00000       2  \n",
       "3        0.02500       2  \n",
       "4        0.04386       0  "
      ]
     },
     "execution_count": 2,
     "metadata": {},
     "output_type": "execute_result"
    }
   ],
   "source": [
    "inspire = pd.read_pickle('REFS')\n",
    "inspire = inspire.reset_index(drop=True)\n",
    "inspire.head()"
   ]
  },
  {
   "cell_type": "code",
   "execution_count": 3,
   "metadata": {},
   "outputs": [],
   "source": [
    "# tokenise text for later\n",
    "tokenizer = Tokenizer(num_words=10000)\n",
    "tokenizer.fit_on_texts(inspire['Text'])\n",
    "sequences = tokenizer.texts_to_sequences(inspire['Text'])\n",
    "data = pad_sequences(sequences, maxlen=500)"
   ]
  },
  {
   "cell_type": "code",
   "execution_count": 4,
   "metadata": {},
   "outputs": [],
   "source": [
    "# SPLIT DATA INTO TRAIN/ TEST\n",
    "training_samples = 3 * len(inspire) // 5\n",
    "validation_samples = len(inspire) // 5\n",
    "\n",
    "train = data[:training_samples]\n",
    "val = data[training_samples:training_samples + validation_samples]\n",
    "test = data[training_samples + validation_samples:]\n",
    "\n",
    "inspire_train = inspire[:training_samples]\n",
    "inspire_val = inspire[training_samples:training_samples + validation_samples].reset_index(drop=True)\n",
    "inspire_test = inspire[training_samples + validation_samples:].reset_index(drop=True)"
   ]
  },
  {
   "cell_type": "code",
   "execution_count": 6,
   "metadata": {},
   "outputs": [
    {
     "name": "stdout",
     "output_type": "stream",
     "text": [
      "(3522, 2017, 17725)\n",
      "{0: 6.6053378762067005, 1: 11.533961328705999, 2: 1.3124964739069112}\n"
     ]
    }
   ],
   "source": [
    "# FIND WEIGHTS FOR LATER\n",
    "N_core =    len( inspire_train['Result'][ inspire_train['Result'] == 2 ] )\n",
    "N_noncore = len( inspire_train['Result'][ inspire_train['Result'] == 1 ] )\n",
    "N_rej  =    len( inspire_train['Result'][ inspire_train['Result'] == 0 ] )\n",
    "\n",
    "print (N_core, N_noncore, N_rej)\n",
    "\n",
    "N_total = float(len(inspire_train['Result']))\n",
    "weights = {0: N_total/(N_core),\n",
    "          1: N_total/(N_noncore),\n",
    "           \n",
    "          2: N_total/(N_rej)}\n",
    "print (weights)"
   ]
  },
  {
   "cell_type": "markdown",
   "metadata": {},
   "source": [
    "## net "
   ]
  },
  {
   "cell_type": "markdown",
   "metadata": {},
   "source": [
    "here, I want to make a neurel net, train it for the text, syphon of the auxiliary layer and put it into an SVM with the reference data"
   ]
  },
  {
   "cell_type": "code",
   "execution_count": 5,
   "metadata": {},
   "outputs": [],
   "source": [
    "from keras.layers import Input, Embedding, LSTM, Dense\n",
    "from keras.models import Model\n",
    "\n",
    "main_input = Input(shape=(500,), dtype='float', name='main_input')\n",
    "x = Embedding(output_dim=100, input_dim=10000, input_length = 500)(main_input)\n",
    "x = Flatten()(x)\n",
    "x = Dense(32, activation='relu')(x)\n",
    "x = Dense(32, activation='relu')(x)\n",
    "auxiliary_output = Dense(32, activation='sigmoid', name='aux_output')(x)\n",
    "\n",
    "main_output = Dense(3, activation='softmax', name='main_output')(x)\n",
    "\n",
    "model = Model(inputs=[main_input], outputs=[main_output, auxiliary_output])\n",
    "model.compile(optimizer='rmsprop', loss='sparse_categorical_crossentropy', metrics=['acc'])"
   ]
  },
  {
   "cell_type": "code",
   "execution_count": 8,
   "metadata": {},
   "outputs": [
    {
     "name": "stdout",
     "output_type": "stream",
     "text": [
      "Train on 23264 samples, validate on 7754 samples\n",
      "Epoch 1/7\n",
      "23264/23264 [==============================] - 9s 376us/step - loss: 2.1722 - main_output_loss: 0.6799 - aux_output_loss: 1.4923 - main_output_acc: 0.7772 - aux_output_acc: 0.7326 - val_loss: 1.0904 - val_main_output_loss: 0.4879 - val_aux_output_loss: 0.6025 - val_main_output_acc: 0.8047 - val_aux_output_acc: 0.7564\n",
      "Epoch 2/7\n",
      "23264/23264 [==============================] - 9s 375us/step - loss: 0.7559 - main_output_loss: 0.3349 - aux_output_loss: 0.4210 - main_output_acc: 0.8836 - aux_output_acc: 0.8290 - val_loss: 0.5886 - val_main_output_loss: 0.2847 - val_aux_output_loss: 0.3039 - val_main_output_acc: 0.8966 - val_aux_output_acc: 0.8931\n",
      "Epoch 3/7\n",
      "23264/23264 [==============================] - 9s 374us/step - loss: 0.4704 - main_output_loss: 0.2323 - aux_output_loss: 0.2381 - main_output_acc: 0.9194 - aux_output_acc: 0.9172 - val_loss: 0.5188 - val_main_output_loss: 0.2590 - val_aux_output_loss: 0.2597 - val_main_output_acc: 0.9084 - val_aux_output_acc: 0.9093\n",
      "Epoch 4/7\n",
      "23264/23264 [==============================] - 9s 387us/step - loss: 0.3540 - main_output_loss: 0.1769 - aux_output_loss: 0.1771 - main_output_acc: 0.9405 - aux_output_acc: 0.9392 - val_loss: 0.5269 - val_main_output_loss: 0.2655 - val_aux_output_loss: 0.2614 - val_main_output_acc: 0.9118 - val_aux_output_acc: 0.9117\n",
      "Epoch 5/7\n",
      "23264/23264 [==============================] - 9s 385us/step - loss: 0.2580 - main_output_loss: 0.1285 - aux_output_loss: 0.1295 - main_output_acc: 0.9576 - aux_output_acc: 0.9566 - val_loss: 0.5914 - val_main_output_loss: 0.2961 - val_aux_output_loss: 0.2952 - val_main_output_acc: 0.9079 - val_aux_output_acc: 0.9066\n",
      "Epoch 6/7\n",
      "23264/23264 [==============================] - 9s 393us/step - loss: 0.1549 - main_output_loss: 0.0766 - aux_output_loss: 0.0784 - main_output_acc: 0.9776 - aux_output_acc: 0.9770 - val_loss: 0.6370 - val_main_output_loss: 0.3181 - val_aux_output_loss: 0.3189 - val_main_output_acc: 0.9095 - val_aux_output_acc: 0.9095\n",
      "Epoch 7/7\n",
      "23264/23264 [==============================] - 9s 387us/step - loss: 0.0785 - main_output_loss: 0.0388 - aux_output_loss: 0.0397 - main_output_acc: 0.9894 - aux_output_acc: 0.9892 - val_loss: 0.6818 - val_main_output_loss: 0.3497 - val_aux_output_loss: 0.3321 - val_main_output_acc: 0.9060 - val_aux_output_acc: 0.9057\n"
     ]
    }
   ],
   "source": [
    "history = model.fit({'main_input': train}, \n",
    "                    {'main_output': inspire_train['Result'], 'aux_output': inspire_train['Result']}, \n",
    "                    epochs=7, batch_size=300, class_weight=weights,\n",
    "                    validation_data=({'main_input':val},\n",
    "                                     {'main_output': inspire_val['Result'],'aux_output': inspire_val['Result']}))"
   ]
  },
  {
   "cell_type": "code",
   "execution_count": 9,
   "metadata": {},
   "outputs": [
    {
     "data": {
      "image/png": "[encoded data removed]",
      "text/plain": [
       "<matplotlib.figure.Figure at 0x7fda7ad37950>"
      ]
     },
     "metadata": {},
     "output_type": "display_data"
    }
   ],
   "source": [
    "acc = history.history['aux_output_acc']\n",
    "val_acc = history.history['val_aux_output_acc']\n",
    "\n",
    "epochs = range(1, len(acc) + 1)\n",
    "\n",
    "plt.figure(figsize=(16, 9))\n",
    "plt.plot(epochs, acc, 'bo', label='Training acc')\n",
    "plt.plot(epochs, val_acc, 'b', label='Validation acc')\n",
    "plt.title('Training and validation accuracy')\n",
    "plt.legend()\n",
    "\n",
    "plt.show()"
   ]
  },
  {
   "cell_type": "markdown",
   "metadata": {},
   "source": [
    "Now, we can take the auxiliary data and play with it. Theres 16 columns, thats quite a lot, maybe do PCA with it?"
   ]
  },
  {
   "cell_type": "code",
   "execution_count": 10,
   "metadata": {},
   "outputs": [
    {
     "data": {
      "text/plain": [
       "3"
      ]
     },
     "execution_count": 10,
     "metadata": {},
     "output_type": "execute_result"
    }
   ],
   "source": [
    "# put training/ val through model\n",
    "Ptrain = model.predict(train)\n",
    "Pvec = model.predict(val)\n",
    "# take just the aux stuff\n",
    "T = Ptrain[1]\n",
    "V = Pvec[1]\n",
    "# lets try reduce dimensionality\n",
    "from sklearn.decomposition import PCA\n",
    "pca = PCA(.99999)\n",
    "pca.fit(T)\n",
    "pca.n_components_"
   ]
  },
  {
   "cell_type": "code",
   "execution_count": 11,
   "metadata": {},
   "outputs": [],
   "source": [
    "# do the transform: 32 -> 3\n",
    "Ptr = pca.transform(T)\n",
    "Pv = pca.transform(V)"
   ]
  },
  {
   "cell_type": "code",
   "execution_count": 12,
   "metadata": {},
   "outputs": [
    {
     "name": "stdout",
     "output_type": "stream",
     "text": [
      "0.8994067578024245\n"
     ]
    }
   ],
   "source": [
    "#check to see if its all good\n",
    "svc = svm.SVC(decision_function_shape='ovo', kernel='linear', probability=True)\n",
    "SVC = svc.fit(Ptr, inspire_train['Result'])\n",
    "\n",
    "print SVC.score(Pv, inspire_val['Result'])"
   ]
  },
  {
   "cell_type": "markdown",
   "metadata": {},
   "source": [
    "build a new df"
   ]
  },
  {
   "cell_type": "code",
   "execution_count": 13,
   "metadata": {},
   "outputs": [],
   "source": [
    "#put the 3 PC columns into original df's\n",
    "PCA_ = ['PC1', 'PC2', 'PC3']\n",
    "training = pd.DataFrame(Ptr, columns=PCA_)\n",
    "inspire_train = pd.concat([inspire_train, training], axis = 1)\n",
    "\n",
    "vali = pd.DataFrame(Pv, columns=PCA_)\n",
    "inspire_val   = pd.concat([inspire_val, vali], axis = 1)"
   ]
  },
  {
   "cell_type": "code",
   "execution_count": 14,
   "metadata": {},
   "outputs": [
    {
     "name": "stdout",
     "output_type": "stream",
     "text": [
      "0.9224916172298169\n"
     ]
    }
   ],
   "source": [
    "# quick check of quality\n",
    "inputs = ['Title-sing', 'Title-bi', 'Title-tri', 'Title-quad', 'Abs-sing','Abs-bi', 'Abs-tri', 'Abs-quad','core refs', 'non-core refs', 'PC1', 'PC2', 'PC3']\n",
    "svc = svm.SVC(decision_function_shape='ovo', kernel='linear', probability=True)\n",
    "SVC = svc.fit(inspire_train[inputs], inspire_train['Result'])\n",
    "print SVC.score(inspire_val[inputs], inspire_val['Result'])"
   ]
  },
  {
   "cell_type": "markdown",
   "metadata": {},
   "source": [
    "## SVM "
   ]
  },
  {
   "cell_type": "markdown",
   "metadata": {},
   "source": [
    "scores"
   ]
  },
  {
   "cell_type": "code",
   "execution_count": null,
   "metadata": {},
   "outputs": [],
   "source": [
    "svc = svm.SVC(decision_function_shape='ovo', kernel='linear', probability=True)\n",
    "#svc = svm.SVC(C=1, kernel='linear')\n",
    "keysPC = ['core refs', 'non-core refs']\n",
    "SVC = svc.fit(inspire_train[keysPC], inspire_train['Result'])"
   ]
  },
  {
   "cell_type": "code",
   "execution_count": null,
   "metadata": {},
   "outputs": [],
   "source": [
    "dec = svc.decision_function(inspire_val[keysPC])\n",
    "print dec"
   ]
  },
  {
   "cell_type": "code",
   "execution_count": null,
   "metadata": {},
   "outputs": [],
   "source": [
    "print SVC.score(inspire_val[keysPC], inspire_val['Result'])"
   ]
  },
  {
   "cell_type": "code",
   "execution_count": null,
   "metadata": {},
   "outputs": [],
   "source": [
    "class_probabilities = svc.predict_proba(inspire_val[keysPC])\n",
    "print class_probabilities[1]"
   ]
  },
  {
   "cell_type": "code",
   "execution_count": null,
   "metadata": {},
   "outputs": [],
   "source": [
    "X = inspire_train[keysPC]\n",
    "y = inspire_train['Result']\n",
    "\n",
    "#svc = svm.SVC(kernel='linear')\n",
    "svc = svm.SVC(decision_function_shape='ovo')\n",
    "\n",
    "C_s = np.logspace(-4, 2, 7)\n",
    "\n",
    "scores = list()\n",
    "scores_std = list()\n",
    "for C in C_s:\n",
    "    svc.C = C\n",
    "    this_scores = cross_val_score(svc, X, y, n_jobs=1)\n",
    "    scores.append(np.mean(this_scores))\n",
    "    scores_std.append(np.std(this_scores))\n",
    "\n",
    "# Do the plotting\n",
    "import matplotlib.pyplot as plt\n",
    "plt.figure(1, figsize=(4, 3))\n",
    "plt.clf()\n",
    "plt.semilogx(C_s, scores)\n",
    "plt.semilogx(C_s, np.array(scores) + np.array(scores_std), 'b--')\n",
    "plt.semilogx(C_s, np.array(scores) - np.array(scores_std), 'b--')\n",
    "locs, labels = plt.yticks()\n",
    "plt.yticks(locs, list(map(lambda x: \"%g\" % x, locs)))\n",
    "plt.ylabel('CV score')\n",
    "plt.xlabel('Parameter C')\n",
    "plt.ylim(0.7, 1 )\n",
    "plt.show()"
   ]
  },
  {
   "cell_type": "code",
   "execution_count": null,
   "metadata": {},
   "outputs": [],
   "source": [
    "from sklearn.model_selection import GridSearchCV, cross_val_score\n",
    "Cs = np.logspace(-4, 2, 7)\n",
    "clf = GridSearchCV(estimator=svc, param_grid=dict(C=Cs), n_jobs=-1)\n",
    "\n",
    "clf.fit(inspire_train[keysPC], inspire_train['Result']) \n",
    "\n",
    "print clf.best_score_ \n",
    "print clf.best_estimator_.C  "
   ]
  },
  {
   "cell_type": "markdown",
   "metadata": {},
   "source": [
    "Confusion Matrix"
   ]
  },
  {
   "cell_type": "code",
   "execution_count": 15,
   "metadata": {},
   "outputs": [
    {
     "name": "stdout",
     "output_type": "stream",
     "text": [
      "0.9224916172298169\n",
      "Normalized confusion matrix\n",
      "[[0.99 0.01 0.  ]\n",
      " [0.47 0.44 0.09]\n",
      " [0.06 0.05 0.89]]\n"
     ]
    },
    {
     "data": {
      "image/png": "[encoded data removed]",
      "text/plain": [
       "<matplotlib.figure.Figure at 0x7fda7b67bc50>"
      ]
     },
     "metadata": {},
     "output_type": "display_data"
    }
   ],
   "source": [
    "class_names = [\"Rejected\", \"Non-Core\", \"Core\"]\n",
    "\n",
    "X_test = inspire_val[inputs]\n",
    "y_test = inspire_val['Result']\n",
    "\n",
    "# Run classifier, using a model that is too regularized (C too low) to see\n",
    "# the impact on the results\n",
    "# classifier = svm.SVC(decision_function_shape='ovo', C=clf.best_estimator_.C)\n",
    "\n",
    "#classifier = svm.SVC(decision_function_shape='ovo', class_weight='balanced', C=1)\n",
    "y_pred = SVC.predict(X_test)\n",
    "print SVC.score(X_test, y_test)\n",
    "\n",
    "def plot_confusion_matrix(cm, classes,\n",
    "                          normalize=False,\n",
    "                          title='Confusion matrix',\n",
    "                          cmap=plt.cm.Blues):\n",
    "    \"\"\"\n",
    "    This function prints and plots the confusion matrix.\n",
    "    Normalization can be applied by setting `normalize=True`.\n",
    "    \"\"\"\n",
    "    if normalize:\n",
    "        cm = cm.astype('float') / cm.sum(axis=1)[:, np.newaxis]\n",
    "        print(\"Normalized confusion matrix\")\n",
    "    else:\n",
    "        print('Confusion matrix, without normalization')\n",
    "\n",
    "    print(cm)\n",
    "\n",
    "    plt.imshow(cm, interpolation='nearest', cmap=cmap)\n",
    "    plt.title(title)\n",
    "    plt.colorbar()\n",
    "    tick_marks = np.arange(len(classes))\n",
    "    plt.xticks(tick_marks, classes, rotation=45)\n",
    "    plt.yticks(tick_marks, classes)\n",
    "\n",
    "    fmt = '.2f' if normalize else 'd'\n",
    "    thresh = cm.max() / 2.\n",
    "    for i, j in itertools.product(range(cm.shape[0]), range(cm.shape[1])):\n",
    "        plt.text(j, i, format(cm[i, j], fmt),\n",
    "                 horizontalalignment=\"center\",\n",
    "                 color=\"white\" if cm[i, j] > thresh else \"black\")\n",
    "\n",
    "    plt.tight_layout()\n",
    "    plt.ylabel('True label')\n",
    "    plt.xlabel('Predicted label')\n",
    "\n",
    "# Compute confusion matrix\n",
    "cnf_matrix = confusion_matrix(y_test, y_pred)\n",
    "np.set_printoptions(precision=2)\n",
    "\n",
    "# Plot normalized confusion matrix\n",
    "plt.figure()\n",
    "plot_confusion_matrix(cnf_matrix, classes=class_names, normalize=True,\n",
    "                      title='Normalized confusion matrix')\n",
    "\n",
    "plt.show()"
   ]
  },
  {
   "cell_type": "code",
   "execution_count": null,
   "metadata": {},
   "outputs": [],
   "source": []
  }
 ],
 "metadata": {
  "kernelspec": {
   "display_name": "Python 2",
   "language": "python",
   "name": "python2"
  },
  "language_info": {
   "codemirror_mode": {
    "name": "ipython",
    "version": 2
   },
   "file_extension": ".py",
   "mimetype": "text/x-python",
   "name": "python",
   "nbconvert_exporter": "python",
   "pygments_lexer": "ipython2",
   "version": "2.7.14"
  }
 },
 "nbformat": 4,
 "nbformat_minor": 2
}
