{
 "cells": [
  {
   "cell_type": "code",
   "execution_count": 1,
   "metadata": {},
   "outputs": [],
   "source": [
    "import time\n",
    "start_time = time.time()"
   ]
  },
  {
   "cell_type": "code",
   "execution_count": 2,
   "metadata": {},
   "outputs": [],
   "source": [
    "import nltk\n",
    "import scipy\n",
    "from nltk.tokenize import word_tokenize\n",
    "from nltk.util import ngrams\n",
    "import numpy as np\n",
    "import re\n",
    "import pickle"
   ]
  },
  {
   "cell_type": "code",
   "execution_count": 3,
   "metadata": {},
   "outputs": [],
   "source": [
    "import sys\n",
    "reload(sys)\n",
    "sys.getdefaultencoding()"
   ]
  },
  {
   "cell_type": "markdown",
   "metadata": {},
   "source": [
    "Split Incoming Enteries"
   ]
  },
  {
   "cell_type": "code",
   "execution_count": 4,
   "metadata": {},
   "outputs": [],
   "source": [
    "ETITLE = [\"ENDTITLE\"]\n",
    "\n",
    "def split_text(text):\n",
    "    entries = []\n",
    "    j=0\n",
    "    while (j <(len(text))):\n",
    "        if (set(ETITLE).intersection(text[j].split()) == set(['ENDTITLE'])):\n",
    "            text_split = re.split(\"ENDTITLES|ENDTITLE|ENDABSTRACTS\",text[j])\n",
    "            title1 = text_split[0].strip()\n",
    "            title2 = text_split[1].strip()\n",
    "            abstract = text_split[2].replace(\"\\r\\n\",\" \").strip()\n",
    "            decision = text_split[3].strip()\n",
    "            entries.append({u'title':title1,u'abstract':abstract,u'decision':decision})\n",
    "            j = j +1\n",
    "        else: \n",
    "            text_split = re.split(\"ENDTITLES|ENDABSTRACTS\",text[j])\n",
    "            title = text_split[0].strip()\n",
    "            abstract = text_split[1].replace(\"\\r\\n\",\" \").strip()\n",
    "            decision = text_split[2].strip()\n",
    "            entries.append({u'title':title,u'abstract':abstract,u'decision':decision})\n",
    "            j = j + 1\n",
    "    return(entries)"
   ]
  },
  {
   "cell_type": "markdown",
   "metadata": {},
   "source": [
    "Create n-grams"
   ]
  },
  {
   "cell_type": "code",
   "execution_count": 5,
   "metadata": {},
   "outputs": [],
   "source": [
    "def BIGRAMS(string):\n",
    "    token = nltk.word_tokenize(string)\n",
    "    bigram = ngrams(token,2)\n",
    "    bigrams = ', '.join(' '.join((a, b)) for a, b in bigram)\n",
    "    biNoSpace = bigrams.replace(\" \",\"\")\n",
    "    BIGRAM = biNoSpace.replace(\",\", \" \")\n",
    "    return BIGRAM\n",
    "    \n",
    "def TRIGRAMS(string):\n",
    "    token = nltk.word_tokenize(string)\n",
    "    trigram = ngrams(token, 3)\n",
    "    trigrams = ', '.join(' '.join((a, b, c)) for a, b, c in trigram)\n",
    "    triNoSpace = trigrams.replace(\" \",\"\")\n",
    "    TRIGRAM = triNoSpace.replace(\",\", \" \")\n",
    "    return TRIGRAM\n",
    "\n",
    "def QUADGRAMS(string):\n",
    "    token = nltk.word_tokenize(string)\n",
    "    quadgram = ngrams(token, 4)\n",
    "    quadgrams = ', '.join(' '.join((a, b, c, d)) for a, b, c, d in quadgram)\n",
    "    quadNoSpace = quadgrams.replace(\" \",\"\")\n",
    "    QUADGRAM = quadNoSpace.replace(\",\", \" \")  \n",
    "    return QUADGRAM"
   ]
  },
  {
   "cell_type": "markdown",
   "metadata": {},
   "source": [
    "Load any csv's"
   ]
  },
  {
   "cell_type": "code",
   "execution_count": 6,
   "metadata": {},
   "outputs": [],
   "source": [
    "def load(name):\n",
    "    with open(name+\".csv\", \"rb\") as f:\n",
    "        File = np.loadtxt(f, dtype=str)\n",
    "    return File"
   ]
  },
  {
   "cell_type": "markdown",
   "metadata": {},
   "source": [
    "Function to Search:"
   ]
  },
  {
   "cell_type": "code",
   "execution_count": 7,
   "metadata": {},
   "outputs": [],
   "source": [
    "ListOfWords = []\n",
    "def Search(Abs, W):    \n",
    "    match = set(Abs).intersection(set(W))\n",
    "    Match = list(match)\n",
    "    i=0\n",
    "    while (i < len(Match)):\n",
    "        ListOfWords.append(Match[i])\n",
    "        #print(Match[i])\n",
    "        i = i + 1    "
   ]
  },
  {
   "cell_type": "markdown",
   "metadata": {},
   "source": [
    "thing to tie it all together:"
   ]
  },
  {
   "cell_type": "code",
   "execution_count": 8,
   "metadata": {},
   "outputs": [],
   "source": [
    "def Key_Num(TEXT, DICT):\n",
    "    Search(TEXT.split()             ,DICT)\n",
    "    Search(BIGRAMS(TEXT).split()    ,DICT)\n",
    "    Search(TRIGRAMS(TEXT).split()   ,DICT)\n",
    "    Search(QUADGRAMS(TEXT).split()  ,DICT)\n",
    "\n",
    "    score = (len(ListOfWords))\n",
    "    #print(\"The amount of terms found is {0}\" .format(score))\n",
    "    return score"
   ]
  },
  {
   "cell_type": "markdown",
   "metadata": {},
   "source": [
    "Test with abstract"
   ]
  },
  {
   "cell_type": "code",
   "execution_count": 9,
   "metadata": {},
   "outputs": [],
   "source": [
    "Data = []\n",
    "with open(\"small.txt\", \"r\") as ins:\n",
    "    for line in ins:\n",
    "        line = unicode(line, errors='ignore')\n",
    "        Data.append(line)\n",
    "print Data[29]"
   ]
  },
  {
   "cell_type": "code",
   "execution_count": 10,
   "metadata": {},
   "outputs": [],
   "source": [
    "#text1 = \"Cellular non-nonlinear network model of microbial fuel cellENDTITLECellular non-nonlinear network model of microbial fuel cell ENDTITLES A cellular non-linear network (CNN) is a uniform regular array of locally\\r\\nconnected continuous-state machines, or nodes, which update their states\\r\\nsimultaneously in discrete time. A microbial fuel cell (MFC) is an\\r\\nelectro-chemical reactor using the metabolism of bacteria to drive an\\r\\nelectrical current. In a CNN model of the MFC, each node takes a vector of\\r\\nstates which represent geometrical characteristics of the cell, like the\\r\\nelectrodes or impermeable borders, and quantify measurable properties like\\r\\nbacterial population, charges produced and hydrogen ions concentrations. The\\r\\nmodel allows the study of integral reaction of the MFC, including temporal\\r\\noutputs, to spatial disturbances of the bacterial population and supply of\\r\\nnutrients. The model can also be used to evaluate inhomogeneous configurations\\r\\nof bacterial populations attached on the electrode biofilms. ENDABSTRACTS Rejected\"\n",
    "#text2 = \"non-nonlinear network model of microbial fuel cellENDTITLECellular non-nonlinear network model of microbial fuel cell ENDTITLES A cellular non-linear network (CNN) is a uniform regular array of locally\\r\\nconnected continuous-state machines, or nodes, which update their states\\r\\nsimultaneously in discrete time. A microbial fuel cell (MFC) is an\\r\\nelectro-chemical reactor using the metabolism of bacteria to drive an\\r\\nelectrical current. In a CNN model of the MFC, each node takes a vector of\\r\\nstates which represent geometrical characteristics of the cell, like the\\r\\nelectrodes or impermeable borders, and quantify measurable properties like\\r\\nbacterial population, charges produced and hydrogen ions concentrations. The\\r\\nmodel allows the study of integral reaction of the MFC, including temporal\\r\\noutputs, to spatial disturbances of the bacterial population and supply of\\r\\nnutrients. The model can also be used to evaluate inhomogeneous configurations\\r\\nof bacterial populations attached on the electrode biofilms. ENDABSTRACTS Rejected\"\n",
    "#text  = [text1,text2]\n",
    "\n",
    "#Data = [Data[29], Data[91], Data[0]]\n",
    "#Data = [DATA]\n",
    "TEXT = split_text(Data)\n",
    "\n",
    "TITLE = []\n",
    "ABSTRACT = []\n",
    "DECISION = []\n",
    "\n",
    "for r in range(len(Data)):\n",
    "    TITLE.append(TEXT[r].get('title').lower())\n",
    "    ABSTRACT.append(TEXT[r].get('abstract').lower())\n",
    "    DECISION.append(TEXT[r].get('decision').lower())\n",
    "\n",
    "key = load(\"KeyWords\")\n",
    "q=0\n",
    "while (q < len(key)):\n",
    "    key[q] = key[q].lower()\n",
    "    q = q + 1"
   ]
  },
  {
   "cell_type": "code",
   "execution_count": null,
   "metadata": {},
   "outputs": [],
   "source": [
    "RESULTS = [] \n",
    "for i in range(len(Data)):\n",
    "    RESULTS.append(Key_Num(TITLE[i], key))\n",
    "    ListOfWords = []\n",
    "    RESULTS.append(Key_Num(ABSTRACT[i], key))\n",
    "    ListOfWords=[]\n",
    "    RESULTS.append(DECISION[i])\n",
    "\n",
    "for n, i in enumerate(RESULTS):\n",
    "    if i == \"rejected\" :\n",
    "        RESULTS[n] = 0\n",
    "    if i == \"core\" :\n",
    "        RESULTS[n] = 2\n",
    "    if i == \"non-core\" :\n",
    "        RESULTS[n] = 1\n",
    "\n",
    "RESULT_array=np.reshape(RESULTS, (len(Data),3))\n",
    "#print (RESULT_array)"
   ]
  },
  {
   "cell_type": "code",
   "execution_count": null,
   "metadata": {},
   "outputs": [],
   "source": [
    "def output_file(name,output):\n",
    "    with open(name+\".pkl\",'wb') as f:\n",
    "        pickle.dump(output,f)\n",
    "        \n",
    "output_file('keyword_occurances',RESULT_array)"
   ]
  },
  {
   "cell_type": "code",
   "execution_count": 4,
   "metadata": {},
   "outputs": [
    {
     "name": "stdout",
     "output_type": "stream",
     "text": [
      "[[u'2' u'7' u'0']\n",
      " [u'0' u'5' u'2']\n",
      " [u'0' u'0' u'0']\n",
      " ..., \n",
      " [u'0' u'5' u'']\n",
      " [u'0' u'2' u'']\n",
      " [u'0' u'2' u'']]\n"
     ]
    }
   ],
   "source": [
    "with open('keyword_occurances.pkl','rb') as f:\n",
    "    mydata= pickle.load(f)\n",
    "    \n",
    "print mydata"
   ]
  },
  {
   "cell_type": "code",
   "execution_count": null,
   "metadata": {},
   "outputs": [],
   "source": [
    "print(\"My program took\", time.time() - start_time, \"to run\")"
   ]
  },
  {
   "cell_type": "code",
   "execution_count": null,
   "metadata": {},
   "outputs": [],
   "source": []
  }
 ],
 "metadata": {
  "kernelspec": {
   "display_name": "Python 2",
   "language": "python",
   "name": "python2"
  },
  "language_info": {
   "codemirror_mode": {
    "name": "ipython",
    "version": 2
   },
   "file_extension": ".py",
   "mimetype": "text/x-python",
   "name": "python",
   "nbconvert_exporter": "python",
   "pygments_lexer": "ipython2",
   "version": "2.7.14"
  }
 },
 "nbformat": 4,
 "nbformat_minor": 2
}
